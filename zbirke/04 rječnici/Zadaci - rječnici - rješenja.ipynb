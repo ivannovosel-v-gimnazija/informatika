{
 "cells": [
  {
   "cell_type": "markdown",
   "metadata": {},
   "source": [
    "## 1. Zadatak\n",
    "\n",
    "Napiši funkciju koja provjerava postoji li neka vrijednost kao ključ u rječniku. Funkcija bi kao argument trebala primiti rječnik i samu vrijednost, a kao rezultat vraća True ili False ovisno o rezultatu.\n",
    "\n",
    "Provjeri kako funkcija radi na nekoliko primjera."
   ]
  },
  {
   "cell_type": "code",
   "execution_count": null,
   "metadata": {},
   "outputs": [],
   "source": [
    "def jeLiKljuč(rječnik, vrijednost):\n",
    "    if vrijednost in rječnik: # standardno se podrazumjevaju ključevi kod ovakvih upita\n",
    "        return True\n",
    "    else:\n",
    "        return False\n",
    "\n",
    "primjer = {'a':1,'b':3,'c':6}\n",
    "print(jeLiKljuč(primjer,'a')) # treba vratiti True\n",
    "print(jeLiKljuč(primjer,'e')) # traba vratiti False"
   ]
  },
  {
   "cell_type": "markdown",
   "metadata": {},
   "source": [
    "## 2. Zadatak\n",
    "\n",
    "Napiši funkciju koja zbraja vrijednosti za zajedničke ključeve u dva rječnika iste duljine. Funkcija kao argument prihvaća dva rječnika, a kao rezultat vraća novi rječnik koji ima sve ključeve kao i ova dva, a za zajedničke ključeve su vrijednosti zbrojene.\n",
    "\n",
    "Primjer:\n",
    "\n",
    "`{'a':100, 'b':200, 'c':100}`\n",
    "\n",
    "`{'a':200, 'b':300, 'd':100}`\n",
    "\n",
    "Novi rječnik bi trebao biti: `{'a':300, 'b':500, 'c':100, 'd':100}`\n",
    "\n",
    "Provjeri kako funkcija radi na nekoliko primjera."
   ]
  },
  {
   "cell_type": "code",
   "execution_count": null,
   "metadata": {},
   "outputs": [],
   "source": [
    "# trebat će nam za ovaj zadatak kod uspoređivanja rječnika\n",
    "def jeLiKljuč(rječnik, vrijednost):\n",
    "    if vrijednost in rječnik:\n",
    "        return True\n",
    "    else:\n",
    "        return False\n",
    "\n",
    "def zbroji(prvi, drugi):\n",
    "    novi = prvi.copy() # radimo kopiju prvog rječnika kako ne bi mijenjali original\n",
    "    novi.update(drugi) # dodajemo sve ključeve i vrijednosti iz drugog\n",
    "    for ključ, vrijednost in prvi.items():\n",
    "        if jeLiKljuč(drugi,ključ): # ako je ključ iz prvog također ključ u drugom onda zbrojimo\n",
    "            novi[ključ] = novi[ključ] + vrijednost\n",
    "    return novi\n",
    "\n",
    "primjer1 = {'a':100, 'b':200, 'c':100}\n",
    "primjer2 = {'a':200, 'b':300, 'd':100}\n",
    "zbroji(primjer1, primjer2)"
   ]
  },
  {
   "cell_type": "markdown",
   "metadata": {},
   "source": [
    "## 3. Zadatak\n",
    "\n",
    "Webshop čuva podatke o svojim artiklima u obliku rječnika koji ima sljedeću strukturu: `'ime artikla':[cijena, popularnost]`\n",
    "\n",
    "Ime artikla (str) je ključ i svaki artikal se pojavljuje samo jednom u popisu. Cijena je izražena u kunama (float), a popularnost je broj puta koliko je taj artikal kupljen (int).\n",
    "\n",
    "Podaci o artiklima se čuvaju u datoteci `artikli.txt` gdje su ovi podaci navedeni odvojeni zarezom. Primjer:\n",
    "\n",
    "`Mlijeko Z,5.60,80`\n",
    "\n",
    "Napravi datoteku artikli.txt sa barem 10 različitih artikala i napiši program koji će učitati te podatke u ranije opisani rječnik. Na ekranu bi trebalo ispisati 3 najpopularnija artikla od najpopularnijeg prema dolje."
   ]
  },
  {
   "cell_type": "code",
   "execution_count": null,
   "metadata": {},
   "outputs": [],
   "source": [
    "with open(\"artikli.txt\",encoding=\"utf-8\") as datoteka:\n",
    "    redovi = datoteka.readlines()\n",
    "# od učitanih podataka radimo rječnik željenog oblika\n",
    "artikli = {}\n",
    "for red in redovi:\n",
    "    ime,cijena,popurnost = red.strip().split(',')\n",
    "    artikli.update({ime:[float(cijena),int(popurnost)]})\n",
    "\n",
    "def poPopularnosti(element):\n",
    "    return element[1][1] # popularnost se nalazi na indeksu [1][1]\n",
    "sortirano = sorted(artikli.items(), key=poPopularnosti, reverse=True)\n",
    "# VAŽNO: sortirano je lista (sorted funkcija uvijek vraća liste) \n",
    "\n",
    "# iz sortiranog popisa ispisujemo samo prva 3\n",
    "print(\"3 najpopularnija artikla su:\")\n",
    "for broj,artikal in enumerate(sortirano,start=1):\n",
    "    print(f\"{broj}. artikal: {artikal[0]}\") # svaki artikal na članu [0] ima ime\n",
    "    if broj == 3:\n",
    "        break # ne idemo dalje od 3."
   ]
  }
 ],
 "metadata": {
  "interpreter": {
   "hash": "02776833e336d0844d1cb9243136a1912065e925e46192a6c392e90ffa596e2b"
  },
  "kernelspec": {
   "display_name": "Python 3.8.2 64-bit",
   "language": "python",
   "name": "python3"
  },
  "language_info": {
   "codemirror_mode": {
    "name": "ipython",
    "version": 3
   },
   "file_extension": ".py",
   "mimetype": "text/x-python",
   "name": "python",
   "nbconvert_exporter": "python",
   "pygments_lexer": "ipython3",
   "version": "3.8.2"
  },
  "orig_nbformat": 4
 },
 "nbformat": 4,
 "nbformat_minor": 2
}
