{
 "cells": [
  {
   "cell_type": "markdown",
   "metadata": {},
   "source": [
    "## 1. Zadatak\n",
    "\n",
    "Napiši funkciju koja provjerava postoji li neka vrijednost kao ključ u rječniku. Funkcija bi kao argument trebala primiti rječnik i samu vrijednost, a kao rezultat vraća True ili False ovisno o rezultatu.\n",
    "\n",
    "Provjeri kako funkcija radi na nekoliko primjera."
   ]
  },
  {
   "cell_type": "code",
   "execution_count": null,
   "metadata": {},
   "outputs": [],
   "source": []
  },
  {
   "cell_type": "markdown",
   "metadata": {},
   "source": [
    "## 2. Zadatak\n",
    "\n",
    "Napiši funkciju koja zbraja vrijednosti za zajedničke ključeve u dva rječnika iste duljine. Funkcija kao argument prihvaća dva rječnika, a kao rezultat vraća novi rječnik koji ima sve ključeve kao i ova dva, a za zajedničke ključeve su vrijednosti zbrojene.\n",
    "\n",
    "Primjer:\n",
    "\n",
    "`{'a':100, 'b':200, 'c':100}`\n",
    "\n",
    "`{'a':200, 'b':300, 'd':100}`\n",
    "\n",
    "Novi rječnik bi trebao biti: `{'a':300, 'b':500, 'c':100, 'd':100}`\n",
    "\n",
    "Provjeri kako funkcija radi na nekoliko primjera."
   ]
  },
  {
   "cell_type": "code",
   "execution_count": null,
   "metadata": {},
   "outputs": [],
   "source": []
  },
  {
   "cell_type": "markdown",
   "metadata": {},
   "source": [
    "## 3. Zadatak\n",
    "\n",
    "Webshop čuva podatke o svojim artiklima u obliku rječnika koji ima sljedeću strukturu: `'ime artikla':[cijena, popularnost]`\n",
    "\n",
    "Ime artikla (str) je ključ i svaki artikal se pojavljuje samo jednom u popisu. Cijena je izražena u kunama (float), a popularnost je broj puta koliko je taj artikal kupljen (int).\n",
    "\n",
    "Podaci o artiklima se čuvaju u datoteci `artikli.txt` gdje su ovi podaci navedeni odvojeni zarezom. Primjer:\n",
    "\n",
    "`Mlijeko Z,5.60,80`\n",
    "\n",
    "Napravi datoteku artikli.txt sa barem 10 različitih artikala i napiši program koji će učitati te podatke u ranije opisani rječnik. Na ekranu bi trebalo ispisati 3 najpopularnija artikla od najpopularnijeg prema dolje."
   ]
  },
  {
   "cell_type": "code",
   "execution_count": null,
   "metadata": {},
   "outputs": [],
   "source": []
  }
 ],
 "metadata": {
  "language_info": {
   "name": "python"
  },
  "orig_nbformat": 4
 },
 "nbformat": 4,
 "nbformat_minor": 2
}
