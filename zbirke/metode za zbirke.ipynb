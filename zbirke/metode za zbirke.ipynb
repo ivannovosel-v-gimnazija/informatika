{
 "cells": [
  {
   "cell_type": "markdown",
   "metadata": {},
   "source": [
    "# Ugrađene metode za pojedine zbirke\n",
    "\n",
    "U ovoj bilježnici se nalaze primjeri koje demonstriraju kako se koristi koja od ugrađenih metoda za pojedine zbirke. Ideja ovog dokumenta je da dobijete pregled toga što unutar Pythona postoji. Neke od ovih metoda ćemo koristiti češće pa ćete ih vjerojatno i zapamtiti, ali **nije nužno pamtiti sve metode napamet**. Ovaj pregled je tu da znate što tražiti jednom kad vam zatreba.\n",
    "\n",
    "Pod svakim od naslova naći ćete primjere za svaku od zbirki, grupirane po namjeni. Svaki podnaslov za namjene je inicijalno pritvoren (vidjet ćete **>** s lijeve strane naslova).\n",
    "\n",
    "> Kliknite na **>** znak kako bi ste vidjeli primjere unutra!\n",
    "\n",
    "Ako želite brže naći metode iskoristite opciju **Outline** iz glavnog izbornika iznad - to će prikazati tablicu sadržaja za cijelu bilježnicu."
   ]
  },
  {
   "cell_type": "markdown",
   "metadata": {},
   "source": [
    "## Zbirka string"
   ]
  },
  {
   "cell_type": "markdown",
   "metadata": {},
   "source": [
    "### Razdvajanje stringova na dijelove + spajanje nazad\n",
    "\n",
    "Osim uobičajenog `split()` koji često koristimo za razdvajanje postoji i njegov pandan `join()` koji stringove spaja nazad, ali postoji i nekoliko različitih verzija split metode za različite situacije."
   ]
  },
  {
   "cell_type": "code",
   "execution_count": null,
   "metadata": {},
   "outputs": [],
   "source": [
    "primjer = \"Nešto za\\trazdvajanje je tu\\n\"\n",
    "\n",
    "# metoda split() razdvaja string po nekom znaku i sprema odvojene stringove u listu.\n",
    "# ako ne ostavimo nikakav argument split() će razdvojiti po bilo kojem praznom znaku (space,tab i sl.)\n",
    "primjer.split()\n"
   ]
  },
  {
   "cell_type": "code",
   "execution_count": null,
   "metadata": {},
   "outputs": [],
   "source": [
    "# malo detaljniji primjeri...\n",
    "popis = \"prvi,drugi,treći,četvrti,peti,šesti\"\n",
    "\n",
    "# možemo definirati po kojem znaku se lomi\n",
    "print(f\"Lista ako polomimo po zarezu: {popis.split(',')}\")\n",
    "print(f\"Lista ako polomimo po slovu i: {popis.split('i')}\")\n",
    "\n",
    "# možemo reći i do koliko dijelova se lomi\n",
    "# ovo se čita kao \"polomi string dok ne nađeš 3 zareza i onda stani sa razdvajanjem\"\n",
    "print(f\"Lista ako polomimo do 3 zareza: {popis.split(',',3)}\")\n",
    "\n",
    "# postoji i metoda rsplit() koja radi jednako, ali počinje od kraja stringa (od desna na lijevo)\n",
    "print(f\"Lista ako polomimo s rsplit() po zarezu: {popis.rsplit(',',3)}\")\n",
    "# uočite da rsplit() ne mijenja redoslijed elemenata u listi\n",
    "\n",
    "# splitlines() specifično razdvaja po znakovima za novi red \\n\n",
    "popis = \"prvi\\ndrugi\\ntreći\\nčetvrti\\npeti\\nšesti\"\n",
    "\n",
    "print(f\"Ako imamo puno redova: {popis.splitlines()}\")\n",
    "print(f\"Ako imamo puno redova: {popis.splitlines(keepends=True)}\") #možemo i zadržati \\n u stringovima"
   ]
  },
  {
   "cell_type": "code",
   "execution_count": null,
   "metadata": {},
   "outputs": [],
   "source": [
    "# join() radi obratno od split() metode\n",
    "# on kao argument prima neku zbirku (tj. nešto po čemu može iterirati)\n",
    "# spaja sve elemente koje dobije pomoću stringa na kojem se metoda pozove\n",
    "\n",
    "popis = \"prvi,drugi,treći,četvrti,peti,šesti\".split(\",\")\n",
    "\n",
    "\" \".join(popis)"
   ]
  },
  {
   "cell_type": "code",
   "execution_count": null,
   "metadata": {},
   "outputs": [],
   "source": [
    "# string na kojem pozivamo join() služi kao \"ljepilo\"\n",
    "popis = \"prvi,drugi,treći,četvrti,peti,šesti\".split(\",\")\n",
    "\n",
    "print(f\"Ako spajamo sa žnj dobije se: {'žnj'.join(popis)}\")\n",
    "print(f\"Ako ne želimo išta između stavi se prazni string: {''.join(popis)}\")"
   ]
  },
  {
   "cell_type": "code",
   "execution_count": null,
   "metadata": {},
   "outputs": [],
   "source": [
    "# join() spaja stringove tako da ovo neće raditi\n",
    "lista = [1,2,3,4,5]\n",
    "\",\".join(lista)"
   ]
  },
  {
   "cell_type": "code",
   "execution_count": null,
   "metadata": {},
   "outputs": [],
   "source": [
    "# ali ovakve konstrukcije hoće jer svaki element pretvaramo sa str()\n",
    "\n",
    "lista = [1,2,3,4,5]\n",
    "spojeno = \",\".join(str(broj) for broj in lista)\n",
    "print(f\"Iz liste: {spojeno}\")\n",
    "\n",
    "spojeno = \",\".join(str(i) for i in range(1,6))\n",
    "print(f\"Može i sa range(): {spojeno}\")"
   ]
  },
  {
   "cell_type": "code",
   "execution_count": null,
   "metadata": {},
   "outputs": [],
   "source": [
    "# partition() je specifična metoda koja vraća ntorku (tuple kao rezultat)\n",
    "# zadaje joj se znak za razdvajanje i ona vraća ono što je ostalo prije tog znaka, sam znak i ono poslije\n",
    "\n",
    "primjer = \"3.4+6.5\"\n",
    "print(f\"Partition je zgodan kad imamo 2 stvari odvojene separatorom. Npr. {primjer} postane {primjer.partition('+')}\")\n",
    "primjer = \"3.4+6.5+2.5443\"\n",
    "print(f\"Ne baš toliko zgodan ako ih je više (onda je bolji split()). Npr. {primjer} postane {primjer.partition('+')}\")\n",
    "# postoji i rpartition koji radi s kontra strane\n",
    "print(f\"Isto to može i sa rpartition(). Npr. {primjer} postane {primjer.rpartition('+')}\")"
   ]
  },
  {
   "cell_type": "markdown",
   "metadata": {},
   "source": [
    "### Pretraživanje sadržaja stringa\n",
    "\n",
    "Pomoću ovih metoda možemo saznati na kojoj poziciji se nalaze pojedini znakovi, ili drugi stringovi, u stringu kojeg pretražujemo."
   ]
  },
  {
   "cell_type": "code",
   "execution_count": null,
   "metadata": {},
   "outputs": [],
   "source": [
    "# metode find() i index() rade vrlo slično. osnovni argument je string koji tražimo\n",
    "# obje će vratiti prvo mjesto na kojem počinje taj string\n",
    "\n",
    "rečenica = \"Ovo je nešto malo dulje. Malo dulje čisto tako imamo po čemu pretraživati.\"\n",
    "\n",
    "# index i find daju isti rezultat ako nešto nađu - poziciju prvog znaka gdje traženi string počinje\n",
    "print(f\"Mjesto na kojem se nalazi riječ dulje: {rečenica.find('dulje')} (find)\")\n",
    "print(f\"Mjesto na kojem se nalazi riječ dulje: {rečenica.index('dulje')} (index)\")\n",
    "\n",
    "# razlika je u tome što vraćaju kad ne nađu ništa\n",
    "if rečenica.find('kraće') == -1: # find() vraća -1 ako nije našao traženi string\n",
    "    print(\"Kraće se ne nalazi u rečenici\")\n",
    "else:\n",
    "    print(\"Kraće je u rečenici\")\n",
    "\n",
    "rečenica.index('kraće') # index() vraća ValueError ako ne nađe ništa"
   ]
  },
  {
   "cell_type": "code",
   "execution_count": null,
   "metadata": {},
   "outputs": [],
   "source": [
    "# dodatni argumenti za find ili index su raspon u kojem se traži\n",
    "# pomicanjem ovog raspona može se naći sve instance nekog stringa, ne samo prvi\n",
    "# koristimo casefold kako pretraga ne bi ovisila o malim i velikim slovima\n",
    "pozicija1 = rečenica.casefold().find('malo', 0, 18) # od početka do 18 znaka\n",
    "pozicija2 = rečenica.casefold().find('malo', 18) # od 18 do kraja\n",
    "\n",
    "print(f\"Prvo mjesto gdje se nalazi riječ malo: {pozicija1}\\nDrugo mjesto gdje se nalazi riječ malo: {pozicija2}\\n\")\n",
    "\n",
    "# obje metode imaju svoje varijante koje počinju od kraja, tj. s desne strane: rfind() i rindex()\n",
    "\n",
    "print(f\"Prvo pojavljivanje riječi dulje s lijeve strane: {rečenica.index('dulje')}\")\n",
    "print(f\"Prvo pojavljivanje riječi dulje s desne strane: {rečenica.rindex('dulje')}\")"
   ]
  },
  {
   "cell_type": "code",
   "execution_count": null,
   "metadata": {},
   "outputs": [],
   "source": [
    "# vrlo često pretražujemo string kako bi se izbrojalo broj puta koji se neki znak ili podstring pojavljuje\n",
    "# za to služi metoda count()\n",
    "\n",
    "primjer = \"U ovoj rečenici ćemo brojati koliko puta se pojavljuju samoglasnici\"\n",
    "\n",
    "print(f\"Koliko slova A ima u primjeru: {primjer.casefold().count('a')}\")\n",
    "\n",
    "primjer2 = \"ababababab\"\n",
    "# ako postoji potencijalno preklapanje podstringova koji se traže onda se broje samo slučajevi bez preklapanja\n",
    "print(f\"Koliko puta za redom se pojavljuje string 'aba': {primjer2.count('aba')}\")\n",
    "\n",
    "# slično kao i find/index i count() može pretraživati samo u određenom rasponu, ne u cijelom stringu\n",
    "# u primjeru ispod pretražujemo od polovice stringa (zaokruži se duljina/2) do kraja\n",
    "broj = primjer.casefold().count('o',round(len(primjer)/2))\n",
    "print(f\"U zadnjoj polovici nalazi se {broj} slova 'O'.\")"
   ]
  },
  {
   "cell_type": "markdown",
   "metadata": {},
   "source": [
    "### Provjera sadržaja stringa\n",
    "\n",
    "Postoji više ugrađenih metoda koje služe za provjeru toga što se nalazi u stringu. Te metode obično počinju sa **is** i vraćaju *True* ili *False*"
   ]
  },
  {
   "cell_type": "code",
   "execution_count": null,
   "metadata": {},
   "outputs": [],
   "source": [
    "slova = \"primjer\"\n",
    "brojke = \"1234\"\n",
    "mix = \"3m4j5ć6\"\n",
    "specijalni = \"šč-df 01!\"\n",
    "print(f\"Primjeri za koje se testira:\\t{slova}\\t{brojke}\\t{mix}\\t{specijalni}\")\n",
    "# isalnum() vraća True ako su znakovi slova ili brojke\n",
    "print(f\"Što isalnum() kaže za primjere:\\t{slova.isalnum()}\\t{brojke.isalnum()}\\t{mix.isalnum()}\\t{specijalni.isalnum()}\")\n",
    "# isaalpha() vraća True ako su znakovi slova\n",
    "print(f\"Što isalpha() kaže za primjere:\\t{slova.isalpha()}\\t{brojke.isalpha()}\\t{mix.isalpha()}\\t{specijalni.isalpha()}\")\n",
    "# isascii() vraća True ako su znakovi iz osnovne ASCII tablice\n",
    "print(f\"Što isascii() kaže za primjere:\\t{slova.isascii()}\\t{brojke.isascii()}\\t{mix.isascii()}\\t{specijalni.isascii()}\")\n",
    "# isdecimal() vraća true ako su znakovi decimalne znamenke 0-9\n",
    "print(f\"Što isdecimal kaže za primjere:\\t{slova.isdecimal()}\\t{brojke.isdecimal()}\\t{mix.isdecimal()}\\t{specijalni.isdecimal()}\")\n",
    "# isdigit() vraća true ako su znakovi brojčane znamenke\n",
    "print(f\"Što isdigit() kaže za primjere:\\t{slova.isdigit()}\\t{brojke.isdigit()}\\t{mix.isdigit()}\\t{specijalni.isdigit()}\")\n",
    "# isnumeric() vraća true ako je u stringu sadržane samo znamenke koje su brojevi\n",
    "print(f\"Što isnumeric kaže za primjere:\\t{slova.isnumeric()}\\t{brojke.isnumeric()}\\t{mix.isnumeric()}\\t{specijalni.isnumeric()}\")\n",
    "# isspace() vraća true ako su u stringu samo prazni znakovi\n",
    "primjer = \"\\n     \\t\"\n",
    "print(f\"Jesu li u {primjer} samo prazni znakovi? {primjer.isspace()}\")\n",
    "#ovo je da malo vidimo razlike između metoda za provjeru brojeva\n",
    "primjer=\"4\\u00B2\"\n",
    "print(f\"Sadrži li {primjer} samo znamenke:\\t{primjer.isdigit()}\\t{primjer.isnumeric()}\\t{primjer.isdecimal()}\")\n",
    "primjer=\"-2.5\"\n",
    "print(f\"Sadrži li {primjer} samo znamenke:\\t{primjer.isdigit()}\\t{primjer.isnumeric()}\\t{primjer.isdecimal()}\")\n"
   ]
  },
  {
   "cell_type": "code",
   "execution_count": null,
   "metadata": {},
   "outputs": [],
   "source": [
    "malo = \"sve malo\"\n",
    "veliko = \"SVE VELIKO\"\n",
    "mix = \"Samo prvo\"\n",
    "naslov = \"Sve Veliko\"\n",
    "\n",
    "print(f\"Primjeri za koje se testira:\\t{malo}\\t{veliko}\\t{mix}\\t{naslov}\")\n",
    "# islower() provjerava je su li svi znakovi mali\n",
    "print(f\"Što islower() kaže za primjere:\\t{malo.islower()}\\t\\t{veliko.islower()}\\t\\t{mix.islower()}\\t\\t{naslov.islower()}\")\n",
    "# isupper() provjerava jesu li svi znakovi veliki\n",
    "print(f\"Što isupper() kaže za primjere:\\t{malo.isupper()}\\t\\t{veliko.isupper()}\\t\\t{mix.isupper()}\\t\\t{naslov.isupper()}\")\n",
    "# istitle() provjerava počinje li svaka riječ velikim slovom\n",
    "print(f\"Što istitle() kaže za primjere:\\t{malo.istitle()}\\t\\t{veliko.istitle()}\\t\\t{mix.istitle()}\\t\\t{naslov.istitle()}\")\n",
    "\n",
    "#brojevi i specijalni znakovi ne utječu na rezultat ovih metoda\n",
    "primjer = \"ovdje ima i broj 1233!\"\n",
    "primjer.islower()"
   ]
  },
  {
   "cell_type": "code",
   "execution_count": null,
   "metadata": {},
   "outputs": [],
   "source": [
    "# isprintable() provjerava jesu li znakovi sadržani u stringu takvi da se mogu ispisati\n",
    "primjer = \"Ovo je rečenica.\"\n",
    "print(f\"Može li se {primjer} ispisati? {primjer.isprintable()}\")\n",
    "# makar se mogu slati na print() \\t i \\n iz nekog razloga ne spadaju u kategoriju printabilnog\n",
    "# postoji još znakova koji ne služe za ispis na ekran, već za komunikaciju direktno između računala\n",
    "primjer = \"\\t1.\\t2.\\t3.\"\n",
    "print(f\"Može li se {primjer} ispisati? {primjer.isprintable()}\")\n",
    "\n",
    "# isidentifier() provjerava je li string validno ime za varijablu u Pythonu\n",
    "imena = [\"varijabla12\",\"neko ime\",\"hešteg\",\"#hešteg?\"]\n",
    "for primjer in imena:\n",
    "    print(f\"Može li {primjer} biti ime za varijablu? {primjer.isidentifier()}\")"
   ]
  },
  {
   "cell_type": "code",
   "execution_count": null,
   "metadata": {},
   "outputs": [],
   "source": [
    "# startswith() i endswith() se koriste na identičan način\n",
    "# kao što im ime govori provjeravaju počinje li (ili završava) naš string sa nekim specifičnim stringom\n",
    "\n",
    "if \"neki string\".startswith(\"neki\"):\n",
    "    print(\"Ovaj string počinje sa 'neki'\")\n",
    "else:\n",
    "    print(\"Ovaj string ne počinje sa 'neki'\")\n",
    "\n",
    "# može se provjeravati i više potencijalnih početaka/krajeva ako ih se zada u obliku ntorke\n",
    "ime = \"datoteka.txt\"\n",
    "if ime.endswith(('.csv','.txt')):\n",
    "    print(\"Nastavak datoteke je jedan od tipičnih za tekstualne datoteke!\")"
   ]
  },
  {
   "cell_type": "markdown",
   "metadata": {},
   "source": [
    "### Mijenjanje veličine slova\n",
    "\n",
    "Ove metode mijenjaju znakove iz velikih u male i obratno (npr. a -> A)"
   ]
  },
  {
   "cell_type": "code",
   "execution_count": null,
   "metadata": {},
   "outputs": [],
   "source": [
    "malo = \"ovo je string za primjer\"\n",
    "svakakvo = \"ovO JE sTRing za PRIMJER\"\n",
    "# namješta string tako da izgleda kao normalna rečenica s prvim velikim slovom\n",
    "malo.capitalize(), svakakvo.capitalize()"
   ]
  },
  {
   "cell_type": "code",
   "execution_count": null,
   "metadata": {},
   "outputs": [],
   "source": [
    "malo = \"ovo je string za primjer\"\n",
    "svakakvo = \"ovO JE sTRing za PRIMJER\"\n",
    "# namješta string tako da svaka riječ počinje velikim slovom (engleski naslovi)\n",
    "malo.title(), svakakvo.title()"
   ]
  },
  {
   "cell_type": "code",
   "execution_count": null,
   "metadata": {},
   "outputs": [],
   "source": [
    "svakakvo = \"ovO JE sTRing za PRIMJER ŠŠŠššš\"\n",
    "\n",
    "# upper() sva slova radi velika\n",
    "veliko = svakakvo.upper()\n",
    "print(f\"Nakon upper(): {veliko}\")\n",
    "\n",
    "# lower() sva slova radi malenim\n",
    "malo = veliko.lower()\n",
    "print(f\"Nakon lower(): {malo}\")\n",
    "\n",
    "# swapcase() radi zamjenu, ali je bilo veliko onda je malo i obratno\n",
    "svakakvo.swapcase()\n"
   ]
  },
  {
   "cell_type": "code",
   "execution_count": null,
   "metadata": {},
   "outputs": [],
   "source": [
    "# casefold() se koristi kod uspredbi stringova kad ne želimo da veličina znaka utječe\n",
    "malo = \"šime\"\n",
    "veliko = \"Šime\"\n",
    "print(f\"Mala i velika slova nisu isto za python pa usporedba malo == veliko daje: {malo == veliko}\")\n",
    "if malo.casefold() == veliko.casefold():\n",
    "    print(\"Ispiši ako se pojave ista slova, nevažno je li veliko ili malo\")"
   ]
  },
  {
   "cell_type": "markdown",
   "metadata": {},
   "source": [
    "### Prilagodba stringa za ispis/učitavanje\n",
    "\n",
    "Osim `format()` metode koja je glavna za prilagodbu poruka koji se stavljaju u print() ili write() postoji još metoda koje nam olakšavaju u pogledu gdje će se poruka i kako prikazivati.\n",
    "\n",
    "format() i f-stringovi koji su zamjena za korištenje te metode, su predstavljene u ranijoj bilježnici (osnovni pregled stringova) tako da se ovdje neće ponovno raditi, ali su predstavljene ostale metode."
   ]
  },
  {
   "cell_type": "code",
   "execution_count": null,
   "metadata": {},
   "outputs": [],
   "source": [
    "# center() ljust() i rjust() sve rade slično. osnovni argument koji ima dajemo je kolika je širina područja (broj znakova)\n",
    "# one će ovisno o tom broju znakova dodati broj razmaka oko našeg stringa\n",
    "\n",
    "# ovdje ćemo raditi sa širinom od 80 znakova\n",
    "širina = 80\n",
    "# center() dodaje razmake prije i poslije stringa kako bi bio u sredini\n",
    "print(\"U sredini\".center(širina))\n",
    "# ljust() je skraćeno od left justified, dakle string će biti s lijeve strane, razmaci se dodaju desno\n",
    "print(\"Lijevo\".ljust(širina))\n",
    "# rjust() je skraćeno od right justified, poruka se pomiče desno dodavanjem razmaka s lijeve strane\n",
    "print(\"Desno\".rjust(širina))"
   ]
  },
  {
   "cell_type": "code",
   "execution_count": null,
   "metadata": {},
   "outputs": [],
   "source": [
    "# ove metode dodaju razmak ako samo definiramo širinu, no mogu zapuniti bilo koji znak koji želimo\n",
    "print(\"X\".ljust(3,\"O\"))\n",
    "print(\"X\".center(3,\"O\"))\n",
    "print(\"X\".rjust(3,\"O\"))"
   ]
  },
  {
   "cell_type": "code",
   "execution_count": null,
   "metadata": {},
   "outputs": [],
   "source": [
    "# kao suprotnost ovim metodama radi različita verzija strip() metode\n",
    "# strip() je zamišljen tako da miče prazna mjesta (ili druge znakove) koji su dodani za ispis\n",
    "\n",
    "s = \"sredina\".center(60)\n",
    "print(f\"s je dugačak {len(s)} znakova i kad se ispiše izgleda kao:\\n{s}\")\n",
    "# strip() miče prazne znakove i s lijeve i desne strane\n",
    "print(f\"Nakon strip() ostane {len(s.strip())} znakova:\\n{s.strip()}\")\n",
    "# rstrip() ih miče samo s desne strane\n",
    "print(f\"Nakon rstrip() ostane {len(s.rstrip())} znaka:\\n{s.rstrip()}\")\n",
    "# lstrip() ih miče samo s lijeve strane\n",
    "print(f\"ANakon lstrip() ostane {len(s.lstrip())} znaka:\\n{s.lstrip()}\")\n",
    "\n",
    "#isto kao i za center, rjust i ljust možemo micati željeni znak, ne samo razmak\n",
    "\"OOOOOXXOO\".strip(\"O\")"
   ]
  },
  {
   "cell_type": "code",
   "execution_count": null,
   "metadata": {},
   "outputs": [],
   "source": [
    "široko = \"\\t\".join(str(i) for i in range(5))\n",
    "print(široko) # tab između svakog broja\n",
    "# poruke u kojima postoji tab \\t znak imaju neki standardni razmak\n",
    "# s expandtabs() se \\t mijenja za različiti broj razmaka (space)\n",
    "print(široko.expandtabs(4)) # 4 razmaka između svakog broja\n",
    "print(široko.expandtabs(20)) # 20 razmaka između svakog broja"
   ]
  },
  {
   "cell_type": "markdown",
   "metadata": {},
   "source": [
    "### Zamjena znakova unutar stringa\n",
    "\n",
    "Sve ove metode služe za zamjenu znakova unutar stringa, ali računajte da kao i ostale metode za stringove zapravo rade novu kopiju stringa u kojoj postoje zamjene."
   ]
  },
  {
   "cell_type": "code",
   "execution_count": null,
   "metadata": {},
   "outputs": [],
   "source": [
    "# osnovna metoda za zamjene je replace()\n",
    "# ona traži podstring koji zadamo i mijenja ga za željeni novi sadržaj na svim mjestima gdje ga nađe\n",
    "\n",
    "lista = \"ime,prezime,broj telefona,adresa\"\n",
    "# replace() prima dva argumenta - traženi string i novi string s kojim se stari mijenja\n",
    "novalista = lista.replace(',',' ') # mijenja sve , sa razmakom\n",
    "print(f\"Stara lista: {lista}\")\n",
    "print(f\"Nova lista: {novalista}\\n\")\n",
    "\n",
    "# ovo će prvo naći sve podstringove 'ime' i zamijeniti ih s 'Marko'\n",
    "# nakon toga replace('prezime','Horvat') neće napraviti ništa jer 'prezime' više ne postoji\n",
    "popuni1 = lista.replace('ime','Marko').replace('prezime','Horvat')\n",
    "print(f\"Lista s popunjenim imenom: {popuni1}\")\n",
    "# ovo prvo mijenja 'prezime' u Horvat\n",
    "popuni2 = lista.replace('prezime','Horvat').replace('ime','Marko')\n",
    "print(f\"Lista s popunjenim imenom: {popuni2}\")\n",
    "\n",
    "# replace() prihvaća i dodatni argument koji govori na koliko mjesta treba zamijeniti podstrnig\n",
    "# ako se ovo ne definira naprosto će ih zamijeniti sve\n",
    "popuni3 = lista.replace('ime','Marko',1) # ovo će zamijeniti samo prvo 'ime' koje nađe\n",
    "print(f\"Lista s popunjenim imenom: {popuni3}\")"
   ]
  },
  {
   "cell_type": "code",
   "execution_count": null,
   "metadata": {},
   "outputs": [],
   "source": [
    "# translate() se koristi za zamjenu jednih znakova drugima\n",
    "# može mijenjati samo jedan znak za drugi kao replace()\n",
    "# ali može napraviti i mnogo zamjena istovremeno (što mu je glavna namjena)\n",
    "\n",
    "rečenica = \"U ovoj rečenici ćemo zamijeniti sve samoglasnike sa nekim drugim samoglasnicima\"\n",
    "\n",
    "# translate() očekuje riječnik (dict) kao argument, a taj riječnik sadrži parove znakova za zamjenu\n",
    "# ti parovi označavaju vrijednost znaka u unicode tablici\n",
    "zamjene = {ord('a'):ord('e'), ord('e'):ord('i'), ord('i'):ord('o'), ord('o'):ord('u'), ord('u'):ord('a')}\n",
    "\n",
    "print(f\"Pogledajmo razlike:\\nOriginal:\\t{rečenica}\\nSa zamjenama:\\t{rečenica.translate(zamjene)}\")"
   ]
  },
  {
   "cell_type": "code",
   "execution_count": null,
   "metadata": {},
   "outputs": [],
   "source": [
    "# na gornjem primjeru se vidi da ručna izrada riječnika za zamjenu izgleda nespretno\n",
    "# zato postoji metoda koja služi specifično za izradu riječnika zamjene: maketrans()\n",
    "\n",
    "zamjene2 = \"\".maketrans(\"aeiou\",\"eioua\") # ovo radi isti riječnik kao onaj iznad\n",
    "if zamjene2 == zamjene:\n",
    "    print(\"Ovo je isti riječnik zamjene :)\")\n",
    "\n",
    "# maketrans() u ovom primjeru uzima 2 argumenta\n",
    "# originalni raspored znakova i novi raspored znakova\n",
    "# znak na indeksu 0 u prvom stringu (originalni raspored) se onda mijenja sa znakom na indeksu 0 u drugom stringu\n",
    "\n",
    "zamjene3 = \"\".maketrans(\"aeiou\",\"eioua\",\"čćšđž\") # postoji i 3 opcionalni argument, to je lista znakova koji se miču iz originalnog\n",
    "\n",
    "rečenica.translate(zamjene3)"
   ]
  },
  {
   "cell_type": "markdown",
   "metadata": {},
   "source": [
    "### Ostalo ...\n",
    "\n",
    "U ovoj kategoriji ostale su metode koje ne spadaju ni u jednu od skupina namjena."
   ]
  },
  {
   "cell_type": "code",
   "execution_count": null,
   "metadata": {},
   "outputs": [],
   "source": [
    "# ovdje je ostao samo encode()\n",
    "# Python standardno koristi UTF-8 zapis za Unicode tablicu znakova\n",
    "# pomoću ove metode možemo forsirati točno određeni zapis za znakove\n",
    "\n",
    "\"Ovo je rečenica sa 'našim' znakovima\".encode(encoding=\"ascii\",errors=\"replace\")\n",
    "# u ovom primjeru originalni string se zapisuje u ASCII encodingu\n",
    "# drugi argument je način na koji se tretiraju znakovi koji nisu podržani u novom zapisu (u ovom primjeru mijenja ih se s ?)"
   ]
  },
  {
   "cell_type": "markdown",
   "metadata": {},
   "source": [
    "## Zbirka list"
   ]
  },
  {
   "cell_type": "markdown",
   "metadata": {},
   "source": [
    "### Dodavanje novih elemenata u listu\n",
    "\n",
    "Ove metode služe za različite oblike dodavanja novih elemenata u postojeću listu."
   ]
  },
  {
   "cell_type": "code",
   "execution_count": null,
   "metadata": {},
   "outputs": [],
   "source": [
    "lista = [1,2,3]\n",
    "\n",
    "# .append() dodaje neki objekt na kraj liste kao novi element\n",
    "lista.append(4)\n",
    "lista.append(\"brojevi\")\n",
    "print(f\"Ovako izgleda lista {lista} nakon što smo ju produljili\")"
   ]
  },
  {
   "cell_type": "code",
   "execution_count": null,
   "metadata": {},
   "outputs": [],
   "source": [
    "# .extend() također dodaje elemente na kraj liste, ali kao argument uzima drugu zbirku ili iterator\n",
    "\n",
    "listaA = [1,2,3]\n",
    "listaB = [4,5,6]\n",
    "# extend dodaje elemente druge liste jedan po jedan\n",
    "listaA.extend(listaB)\n",
    "print(f\"Ovo je rezultat ako koristimo extend(): {listaA}\")\n",
    "# append bi cijelu listu dodao kao jedan član\n",
    "listaA.append(listaB)\n",
    "print(f\"Ovo je rezultat ako koristimo append(): {listaA}\")"
   ]
  },
  {
   "cell_type": "code",
   "execution_count": null,
   "metadata": {},
   "outputs": [],
   "source": [
    "# .insert() služi tome da se novi element doda na specifično mjesto\n",
    "# svi ostali elementi u listi nakon toga se pomiču za jedno mjesto u desno (indeks im se promijeni za +1)\n",
    "\n",
    "slova = ['A','B','C','D']\n",
    "# na indeks 3 se dodaje novi element\n",
    "slova.insert(3, 'Ć')\n",
    "print(f\"Popis slova: {slova}\")\n",
    "# element koji je prethodno bio na indeksu 3 se pomiče za +1, a isto rade i ostali elementi s većim indeksom\n",
    "slova.insert(3, 'Č')\n",
    "print(f\"Popis slova: {slova}\")"
   ]
  },
  {
   "cell_type": "markdown",
   "metadata": {},
   "source": [
    "### Micanje elemenata iz liste\n",
    "\n",
    "Osim ključne riječi `del` koja se koristi za općeinto brisanje u Pythonu liste imaju i dodatne metode koje služe za uklanjanje elemenata iz liste."
   ]
  },
  {
   "cell_type": "code",
   "execution_count": null,
   "metadata": {},
   "outputs": [],
   "source": [
    "popis = ['jaja','kruh','mlijeko','maslac','kruh']\n",
    "\n",
    "# metoda .remove() nalazi element po njegovoj vrijednosti i miče prvi takav element ako ga nađe\n",
    "popis.remove('kruh')\n",
    "print(f\"Popis nakon što se makne jedan element: {popis}\")\n",
    "# ako željene vrijednosti nema u listi onda javlja grešku!\n",
    "popis.remove('jabuke')"
   ]
  },
  {
   "cell_type": "code",
   "execution_count": null,
   "metadata": {},
   "outputs": [],
   "source": [
    "popis = ['jaja','kruh','mlijeko','maslac']\n",
    "\n",
    "# metoda .pop() miče element sa željenog indeksa, ali nam njegovu vrijednost vraća nazad kao rezultat\n",
    "artikal = popis.pop(0) # miče element s indeksa 0\n",
    "print(f\"Popis sad izgleda ovako: {popis}\")\n",
    "print(f\"Ako nam treba element iz liste smo spremili: {artikal}\")\n",
    "\n",
    "# česta namjena za korištenje pop() metode je preseljavanje elementa iz jedne liste u drugu\n",
    "# npr. ako želimo listu stvari koje smo kupili, mičemo element iz originalne liste, ali stavljamo ga u popis kupljeno\n",
    "kupljeno = [artikal]\n",
    "kupljeno.append(popis.pop()) # ako pop() pozovemo bez indeksa on automatski uzima zadnji\n",
    "print(f\"Originalni popis je sad kraći: {popis}\")\n",
    "print(f\"A popis kupljenih stvari je dulji: {kupljeno}\")"
   ]
  },
  {
   "cell_type": "code",
   "execution_count": null,
   "metadata": {},
   "outputs": [],
   "source": [
    "popis = ['jaja','kruh','mlijeko','maslac']\n",
    "\n",
    "# metoda .clear() naprosto briše sve elemente iz liste, ne uzima nikakav argument\n",
    "popis.clear()\n",
    "popis"
   ]
  },
  {
   "cell_type": "markdown",
   "metadata": {},
   "source": [
    "### Pretraživanje sadržaja liste\n",
    "\n",
    "Ove metode nam služe za pronalaženje pozicije ili broja željenih elemenata."
   ]
  },
  {
   "cell_type": "code",
   "execution_count": null,
   "metadata": {},
   "outputs": [],
   "source": [
    "abeceda = ['A','B','C','Č','Ć','D']\n",
    "\n",
    "# metoda .index() radi identično kao i kod stringova, ako joj damo vrijednost elementa\n",
    "# ona će nam vratiti prvi index na kojem se taj element nalazi\n",
    "print(f\"Pozicija slova C je {abeceda.index('C')}\")\n",
    "\n",
    "# za dodatne detalje on index() metodi pogledaj u odjeljak o stringovima jer rade identično"
   ]
  },
  {
   "cell_type": "code",
   "execution_count": null,
   "metadata": {},
   "outputs": [],
   "source": [
    "ocjene = [5,5,4,5,3,2,4,5,3,1,2,3,5,4,1,3,3,3]\n",
    "\n",
    "# metoda .count() radi isto kao i kod stringova, vraća nam koliko puta se neki element pojavljuje u listi\n",
    "# primjer: prebrojimo koliko ima kojih ocjena\n",
    "\n",
    "brojOcjena = [ocjene.count(i) for i in range(1,6)]\n",
    "print(\"Broj ocjena\")\n",
    "for ocjena,broj in enumerate(brojOcjena,start=1):\n",
    "    print(f\"{ocjena}: {broj}\")"
   ]
  },
  {
   "cell_type": "markdown",
   "metadata": {},
   "source": [
    "### Sortiranje sadržaja liste\n",
    "\n",
    "S obzirom da se elementi liste mogu preslagivati moguće ih je soritirati po različitim kriterijima."
   ]
  },
  {
   "cell_type": "code",
   "execution_count": null,
   "metadata": {},
   "outputs": [],
   "source": [
    "imena = ['Ivan','Marko','Ana','Dominik','Petra','Đurđica']\n",
    "\n",
    "# .sort() sortira elemente liste po zadanom ključu\n",
    "imena.sort() # ako pozovemo sort() bez argumenata on sortira elemente liste uzlazno po vrijednosti\n",
    "print(f\"Popis imena sortiral uzlazno: {imena}\")\n",
    "# OPREZ: slovo Đ ima veću vrijednost od bilo kojeg znaka iz engleske abecede\n",
    "# zato 'Đurđica' ne dolazi iza 'Dominik' kao što bi to bilo u hrvatskoj abecedi\n",
    "\n",
    "brojevi = [33,105,21,4,-1]\n",
    "brojevi.sort(reverse=True) # reverse je opcionalni argument koji se dodaje ako želimo sortirati silazno\n",
    "print(f\"Popis ovih brojeva silazno: {brojevi}\")"
   ]
  },
  {
   "cell_type": "code",
   "execution_count": null,
   "metadata": {},
   "outputs": [],
   "source": [
    "# kompetna definicija metode sort omogućuje korištenje 2 opcionalna argumenta\n",
    "# reverse je jedan od njih (prikazano iznad)\n",
    "# drugi se zove key i služi za zadavanje funkcije koja je ključ za sortiranje\n",
    "\n",
    "# primjer: sortirajmo popis imena po duljini imena, a ne po vrijednosti\n",
    "\n",
    "def poDujini(riječ):\n",
    "    return len(riječ) # sve što ova funkcija radi je vraća duljinu stringa kojeg dobije\n",
    "\n",
    "imena.sort(key=poDujini) #VAŽNO: ovdje funkciju prosljeđujemo kao argument, pa ju navodimo bez zagrada!\n",
    "print(f\"Popis imena od najkraćeg prema najduljem: {imena}\")"
   ]
  },
  {
   "cell_type": "markdown",
   "metadata": {},
   "source": [
    "#### Kako radi sortiranje po ključu\n",
    "\n",
    "`.sort()` uvijek sortira po vrijednosti, a argument `key` služi da zadamo novi način određivanja vrijednosti. *key* mora biti neka funkcija koja vraća željenu vrijednost. Dakle prije sortiranja moramo napraviti funkciju koja služi za izračun ključa (primjer iznad računa duljinu riječi). Kod sortiranja svi elementi liste se jedan po jedan prosljeđuju toj funkciji i zatim se sortiraju po vrijednosti koju ta funkcija vrati kao rezultat."
   ]
  },
  {
   "cell_type": "code",
   "execution_count": null,
   "metadata": {},
   "outputs": [],
   "source": [
    "# još par primjera...\n",
    "\n",
    "def poZadnjemSlovu(riječ):\n",
    "    return riječ[-1] # vraćamo nazad zadnje slovo iz riječi\n",
    "\n",
    "def poHrvatskojAbecedi(riječ):\n",
    "    # počistimo riječ za lakše uspoređivanje\n",
    "    riječ = riječ.strip().lower()\n",
    "    # ideja je da vraćamo ispravan redoslijed u HR abecedi, tako da slijedi\n",
    "    # HR abeceda bez dvostrukih znakova (dž, lj, nj)\n",
    "    # prazna mjesta su ostavljena kako bi abeceda imala ispravnu duljinu\n",
    "    abeceda = \"abcčćd đefghijkl mn oprsštuvzž\"\n",
    "\n",
    "    # prva tri slučaja pokrivaju dvostruke znakove\n",
    "    if riječ.startswith('dž'):\n",
    "        return abeceda.find('d')+1\n",
    "    elif riječ.startswith('lj'):\n",
    "        return abeceda.find('l')+1\n",
    "    elif riječ.startswith('nj'):\n",
    "        return abeceda.find('n')+1\n",
    "    # ovo je za slučaj da naiđemo na znak koji nije u hrvatskoj abecedi\n",
    "    elif abeceda.find(riječ[0]) == -1:\n",
    "        return len(abeceda)+ord(riječ[0])\n",
    "    # za sva ostala slova se naprosto vraća njihova pozicija u abecedi\n",
    "    else:\n",
    "        return abeceda.find(riječ[0])\n",
    "\n",
    "imena.sort(key=poZadnjemSlovu, reverse=True)\n",
    "print(f\"Popis imena poredan po zadnjem slovu imena, ali silazno: {imena}\")\n",
    "\n",
    "imena.extend(['William','Ljubica','Željka','Luka'])\n",
    "print(f\"\\nRedoslijed prije sortiranja po HR abecedi: {imena}\")\n",
    "imena.sort(key=poHrvatskojAbecedi)\n",
    "print(f\"Popis sortiran ispravno po HR abecedi: {imena} \")"
   ]
  },
  {
   "cell_type": "code",
   "execution_count": null,
   "metadata": {},
   "outputs": [],
   "source": [
    "# ako samo želimo izokrenuti redoslijed liste onda koristimo metodu .reverse\n",
    "\n",
    "imena.reverse()\n",
    "print(f\"Obrnuti redoslijed: {imena}\")"
   ]
  },
  {
   "cell_type": "markdown",
   "metadata": {},
   "source": [
    "### Ostalo ...\n",
    "\n",
    "Ostale metode definirane za liste koje ne spadaju niti u jednu od gornjih kategorija"
   ]
  },
  {
   "cell_type": "code",
   "execution_count": null,
   "metadata": {},
   "outputs": [],
   "source": [
    "prva = [1,2,3,4]\n",
    "druga = prva\n",
    "druga.append(5)\n",
    "print(f\"prva: {prva}\\ndruga: {druga}\\n\")\n",
    "# operator = ne kopira listu tako da druga.append(5) promijeni i prvu listu!\n",
    "\n",
    "# .copy() metoda se koristi ako zapravo želimo novu kopiju liste\n",
    "treća = prva.copy()\n",
    "treća.append(6)\n",
    "print(f\"prva: {prva}\\ndruga: {druga}\\ntreća: {treća}\")"
   ]
  },
  {
   "cell_type": "markdown",
   "metadata": {},
   "source": [
    "## Zbirka tuple"
   ]
  },
  {
   "cell_type": "markdown",
   "metadata": {},
   "source": [
    "### Pretraživanje sadržaja ntorke\n",
    "\n",
    "S obzirom da su ntorke (eng. tuple) zapravo liste sa zamrznutim redoslijedom one imaju samo one metode koje rade s listama, ali koje ne mijenjaju redoslijed. Jedine dvije koje odgovaraju tom opisu su `index()` i `count()` koje rade identično kao i kod listi i stringova."
   ]
  },
  {
   "cell_type": "code",
   "execution_count": null,
   "metadata": {},
   "outputs": [],
   "source": [
    "ocjene = (5,5,4,5,3,2,4,5,3,1,2,3,5,4,1,3,3,3)\n",
    "\n",
    "# kako rade index() i count() je detaljnije objašnjeno u poglavlju o stringovima (način korištenja je identičan)\n",
    "\n",
    "print(f\"Prva pozicija ocjene 1: {ocjene.index(1)}\") # index() vraća prvu poziciju na kojoj se nalazi vrijednost\n",
    "print(f\"Koliko ima jedinica: {ocjene.count(1)}\") # count() broji koliko puta se vrijednost pojavljuje"
   ]
  },
  {
   "cell_type": "markdown",
   "metadata": {},
   "source": [
    "## Zbirka set"
   ]
  },
  {
   "cell_type": "markdown",
   "metadata": {},
   "source": [
    "### Operacije nad skupovima\n",
    "\n",
    "Metode u ovoj skupini implementiraju operacije unije, presjeka i razlike, s time da za svaku od tih operacija postoji i specijalni operator:\n",
    "\n",
    "|Operacija|Oznaka operatora|Kombinacija na tipkovnici|\n",
    "|:-|:-:|:-|\n",
    "|Unija|&#124;|alt gr + W|\n",
    "|Presjek|&|shift+6|\n",
    "|Razlika|-|-|\n",
    "|Simetrična razlika|^|alt gr + 3 i nakon toga pritisni bilo što|"
   ]
  },
  {
   "cell_type": "code",
   "execution_count": null,
   "metadata": {},
   "outputs": [],
   "source": [
    "# skupovi koji sadrže znakove različitih abeceda\n",
    "hr = set(\"abcčćdđefghijklmnoprsštuvzž\")\n",
    "en = {chr(vrijednost) for vrijednost in range(ord('a'),ord('z')+1)}\n",
    "de = set(\"abcdefghijklmnopqrstuvwxyzäöüß\")\n",
    "\n",
    "# presjek\n",
    "print(f\"Znakovi zajednički hrvatskoj i engleskoj abecedi:\\n{hr & en}\") # pomoću operatora\n",
    "print(f\"Znakovi zajednički hrvatskoj i engleskoj abecedi:\\n{hr.intersection(en)}\") # pomoću metode intersection()\n",
    "\n",
    "# .intersection() kao argument uzima drugi skup i vraća njihov presjek kao novi skup\n",
    "# postoji i .intersection_update() verzija koja ne vraća novi skup nego mijenja sadržaj skupa nad kojim je pozvana metoda\n",
    "# ovakva verzija postoji za sve operacije\n",
    "\n",
    "de.intersection_update(en) # ovo će promijeniti sadržaj skupa de\n",
    "print(f\"DE više ne sadrži sve znakove od prije: {de}\")"
   ]
  },
  {
   "cell_type": "code",
   "execution_count": null,
   "metadata": {},
   "outputs": [],
   "source": [
    "# razlika\n",
    "# ovo funkcionira malo drugačije nego u matematici, postoje dvije verzije ovog operatora\n",
    "\n",
    "# kod obične razlike redoslijed skupova je važan:\n",
    "print(f\"Znakovi koji nisu u engleskoj abecedi:\\n{hr - en}\")\n",
    "print(f\"Znakovi koji nisu u hrvatskoj abecedi:\\n{en - hr}\\n\")\n",
    "\n",
    "# isto to ali sa .difference() metodom:\n",
    "print(f\"Znakovi koji nisu u engleskoj abecedi:\\n{hr.difference(en)}\")\n",
    "print(f\"Znakovi koji nisu u hrvatskoj abecedi:\\n{en.difference(hr)}\\n\")\n",
    "# .difference_update() bi mijenjao sadržaj skupa nad kojim se poziva metoda\n",
    "\n",
    "# kod simetrične razlike nije važan redoslijed \n",
    "print(f\"Svi znakovi koji nisu zajednički za obje abecede:\\n{hr ^ en}\")\n",
    "# ista stvar sa metodom\n",
    "print(f\"Svi znakovi koji nisu zajednički za obje abecede:\\n{hr.symmetric_difference(en)}\")\n",
    "\n",
    "de = set(\"abcdefghijklmnopqrstuvwxyzäöüß\")\n",
    "de.symmetric_difference_update(en) # i ovdje postoji _update() verzija\n",
    "print(f\"Znakovi razlike između engleske i njemačke abecede: {de}\")"
   ]
  },
  {
   "cell_type": "code",
   "execution_count": null,
   "metadata": {},
   "outputs": [],
   "source": [
    "# unija\n",
    "\n",
    "zajedno = hr | en | de # naravno možemo raditi s više od jednog skupa\n",
    "print(f\"Zajednički skup svih znakova iz 3 abecede:\\n{zajedno}\")\n",
    "# ista stvar se može napraviti s union() metodom\n",
    "print(f\"Zajednički skup svih znakova iz 3 abecede:\\n{hr.union(en,de)}\")\n",
    "\n",
    "# za uniju ne postoji union_update() već se metoda samo zove update()\n",
    "hr.update(en,de)\n",
    "print(f\"I dalje ćemo dobiti isti rezultat, ali sada smo izmjenili sadržaj skupa hr:\\n{hr}\")"
   ]
  },
  {
   "cell_type": "markdown",
   "metadata": {},
   "source": [
    "### Provjera odnosa skupova\n",
    "\n",
    "Ove metode nam omogućuju provjeru odnosa između skupova (npr. podskup, nadskup i sl.). Sve počinju sa *is* i vraćaju True ako je uvjet zadovoljen."
   ]
  },
  {
   "cell_type": "code",
   "execution_count": null,
   "metadata": {},
   "outputs": [],
   "source": [
    "prvi = {1,2,3,4,5,6,7}\n",
    "drugi = {2,3,4}\n",
    "treći = {6,7,8,9}\n",
    "\n",
    "# issuperset() možemo koristiti za provjeru sadrži li u cijelosti jedan skup neki drugi skup\n",
    "if prvi.issuperset(drugi):\n",
    "    print(\"Prvi skup u sebi kompletno sadrži drugi skup\")\n",
    "else:\n",
    "    print(\"Prvi skup u sebi ne sadrži kompletni drugi skup\")\n",
    "\n",
    "if prvi.issuperset(treći):\n",
    "    print(\"Prvi skup u sebi kompletno sadrži treći skup\")\n",
    "else:\n",
    "    print(\"Prvi skup u sebi ne sadrži kompletni treći skup\")"
   ]
  },
  {
   "cell_type": "code",
   "execution_count": null,
   "metadata": {},
   "outputs": [],
   "source": [
    "# issubset() radi obrnuto, tj. provjerava je li naš skup podskup nekog drugog skupa\n",
    "drugi.issubset(prvi)"
   ]
  },
  {
   "cell_type": "code",
   "execution_count": null,
   "metadata": {},
   "outputs": [],
   "source": [
    "# isdisjoint() se koristi za provjeru imaju li skupovi presjek\n",
    "# ako presjek ne postoji vraća True kao rezultat\n",
    "četvrti = {9,10,11}\n",
    "prvi.isdisjoint(četvrti), prvi.isdisjoint(treći)"
   ]
  },
  {
   "cell_type": "markdown",
   "metadata": {},
   "source": [
    "### Dodavanje/micanje/kopiranje elemenata skupa\n",
    "\n",
    "`union()` i `update()` se kao operacije mogu koristiti za dodavanje novih elemenata u skup, no postoji još metoda koje specifično služe za dodavanje i brisanje elemenata. Mnogo ovih metoda rade isto kao i za liste."
   ]
  },
  {
   "cell_type": "code",
   "execution_count": null,
   "metadata": {},
   "outputs": [],
   "source": [
    "skup = {1,2,3,4}\n",
    "\n",
    "# add() metoda dodaje novi element u skup\n",
    "skup.add(5)\n",
    "skup.add(3) # ako je element već u skupu neće se desiti ništa\n",
    "\n",
    "skup"
   ]
  },
  {
   "cell_type": "code",
   "execution_count": null,
   "metadata": {},
   "outputs": [],
   "source": [
    "# brisanje elemenata iz skupa se može raditi na više načina\n",
    "\n",
    "# discard() miče željeni element iz skupa\n",
    "skup.discard(2)\n",
    "skup.discard(6) # ako elemen nije u skupu neće se dogoditi ništa\n",
    "print(f\"Trenutni elementi skupa su: {skup}\")\n",
    "\n",
    "# remove() radi jednako kao i za liste\n",
    "# ako element postoji miče ga iz skupa\n",
    "skup.remove(1)\n",
    "print(f\"Trenutni elementi skupa su: {skup}\")\n",
    "# a ako ga nema javlja grešku\n",
    "skup.remove(2)"
   ]
  },
  {
   "cell_type": "code",
   "execution_count": null,
   "metadata": {},
   "outputs": [],
   "source": [
    "# uz to dodane su i metode koje se koriste i kod listi\n",
    "skup = {'a','b','c','d'}\n",
    "\n",
    "# pop() radi slično kao i za liste, ali skupovi nemaju indeks\n",
    "# tako da pop() naprosto izbaci neki element liste i vrati njegovu vrijednost kao rezultat\n",
    "element = skup.pop() # ne prima argument\n",
    "print(f\"Izbačen je {element}\")\n",
    "\n",
    "# clear() radi identično kao i za liste, briše sadržaj cijelog skupa\n",
    "skup.clear()\n",
    "print(f\"U skupu je ostalo: {skup}\")"
   ]
  },
  {
   "cell_type": "code",
   "execution_count": null,
   "metadata": {},
   "outputs": [],
   "source": [
    "prvi = {'a','b','c','d'}\n",
    "drugi = prvi\n",
    "drugi.add('e')\n",
    "# isto kao i za liste, korištenje = operatora neće napraviti kopiju, već samo novo ime za postojeći skup\n",
    "print(f\"Prvi: {prvi}\\nDrugi: {drugi}\\n\")\n",
    "# ako mijenjamo drugi promijenit će se i prvi\n",
    "\n",
    "#tako da i skupovi imaju metodu copy() koja radi kopiju skupa ako to trebamo\n",
    "treći = prvi.copy()\n",
    "treći.add('f')\n",
    "print(f\"Prvi: {prvi}\\nDrugi: {drugi}\\nTreći: {treći}\")"
   ]
  },
  {
   "cell_type": "markdown",
   "metadata": {},
   "source": [
    "## Zbirka dictionary"
   ]
  },
  {
   "cell_type": "markdown",
   "metadata": {},
   "source": [
    "### Metode za rječnike\n",
    "\n",
    "Ovo dolazi kad krenemo raditi s rječnicima"
   ]
  },
  {
   "cell_type": "code",
   "execution_count": null,
   "metadata": {},
   "outputs": [],
   "source": [
    "rječnik = {'a':1, 'b':2}\n",
    "\n",
    "for ključ,vrijednost in rječnik.items():\n",
    "    print(f\"Ključ:vrijednost -> {ključ}:{vrijednost}\")"
   ]
  }
 ],
 "metadata": {
  "interpreter": {
   "hash": "02776833e336d0844d1cb9243136a1912065e925e46192a6c392e90ffa596e2b"
  },
  "kernelspec": {
   "display_name": "Python 3.8.2 64-bit",
   "language": "python",
   "name": "python3"
  },
  "language_info": {
   "codemirror_mode": {
    "name": "ipython",
    "version": 3
   },
   "file_extension": ".py",
   "mimetype": "text/x-python",
   "name": "python",
   "nbconvert_exporter": "python",
   "pygments_lexer": "ipython3",
   "version": "3.8.2"
  },
  "orig_nbformat": 4
 },
 "nbformat": 4,
 "nbformat_minor": 2
}
