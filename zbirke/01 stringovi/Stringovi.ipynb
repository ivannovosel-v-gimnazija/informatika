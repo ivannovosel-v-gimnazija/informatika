{
 "cells": [
  {
   "cell_type": "markdown",
   "metadata": {},
   "source": [
    "# Zbirka *string*\n",
    "\n",
    "U ovoj bilježnici nalazi se detaljniji pregled svega što se može raditi sa stringovima kao tipom podataka u Pythonu. Dio stvari koji se ovdje spominje se jednako ponaša i u drugim zbirkama (eng. collections) i ti dijelovi će biti napomenuti.\n",
    "\n",
    "## Svojstva *stringa* kao zbirke\n",
    "\n",
    "String je složeni tip podataka, tj. zbirka, koja se sastoji od niza znakova. Svi znakovi imaju svoj određeni redoslijed koji je utvrđen **indeksom**. Npr. string:\n",
    "\n",
    "> `prizma`\n",
    "\n",
    ">  `012345`\n",
    "\n",
    "Prvo slovo počinje na broju nula. Detaljniji primjeri s indeksiranjem će biti pokazani kasnije, a npr. *liste* također imaju indekse koji se ponašaju identično kao ovi od stringova.\n",
    "\n",
    "Unutar pythona svi stringovi su zamišljeni kao **nemutirajući** - ovo znači da niti jedna od metoda i funkcija koje rade sa stringovima *ne mijenjaju originalni string*, već ako želimo raditi promjene na stringu radimo novu kopiju stringa koji će sadržavati te promjene."
   ]
  },
  {
   "cell_type": "markdown",
   "metadata": {},
   "source": [
    "## Indeksiranje\n",
    "\n",
    "Indeksiranje radi jednako sa svim zbirkama koje ga podržavaju (npr. stringovi i liste), tako da ćemo ovdje proći sve detalje, a način korištenja će biti isti i kod zbirki koje ćemo raditi kasnije."
   ]
  },
  {
   "cell_type": "code",
   "execution_count": null,
   "metadata": {},
   "outputs": [],
   "source": [
    "# hint: pritisni ▶ pored ćelije da bi se kod izvršio\n",
    "s = \"prizma\"\n",
    "print(s[0]) # dohvaćanje jednog znaka\n",
    "print(s[-1]) # postoje i indeksi unazad"
   ]
  },
  {
   "cell_type": "markdown",
   "metadata": {},
   "source": [
    "Kada gledamo indekse s lijeva na desno (od početka stringa) počinju s 0 i povećavaju se. No postoji i indeksiranje s desna na lijevo, tj. od kraja stringa. Koji oblik ćemo koristiti ovisi o problemu koji rješavamo. Na gornjem primjeru oba tipa indeksa bi izgledala ovako:\n",
    "\n",
    "|p|r|i|z|m|a|\n",
    "|-|-|-|-|-|-|\n",
    "|0|1|2|3|4|5|\n",
    "|-6|-5|-4|-3|-2|-1|\n",
    "\n",
    "Važno je da indeksi koje koristimo zapravo odgovaraju indeksima koji postoje u danom stringu. Ako izađemo iz raspona indeksa Python će nam za takvu situaciju javiti grešku:"
   ]
  },
  {
   "cell_type": "code",
   "execution_count": null,
   "metadata": {},
   "outputs": [],
   "source": [
    "s[12] #najveći indeks je 5 tako da ovo ne može raditi"
   ]
  },
  {
   "cell_type": "markdown",
   "metadata": {},
   "source": [
    "### Rasponi indeksa\n",
    "\n",
    "Neki puta želimo odabrati ne samo jedan od znakova iz stringa već raspon od više znakova. Rasponi se označavaju sa dvotočkom `[početak : kraj>` i početni indeks je uključen u raspon dok kraj nije."
   ]
  },
  {
   "cell_type": "code",
   "execution_count": null,
   "metadata": {},
   "outputs": [],
   "source": [
    "s = \"može i neka rečenica\"\n",
    "print(s[0:3]) # ovo dohvaća znakove s indeksa 0-2\n",
    "print(s[:5]) # 0 možemo izostaviti ako krećemo od početka stringa\n",
    "print(s[3:]) # ako izostavimo krajnji indeks onda se podrazumjeva da raspon ide do kraja\n",
    "print(s[1:10:2]) # raspon može imati i korak. ovo uzima svaki drugi znak na indeksima 1-9\n",
    "print(s[:11:-1]) # ako stavimo negativan korak raspon ide u suprotnom smjeru"
   ]
  },
  {
   "cell_type": "markdown",
   "metadata": {},
   "source": [
    "**1. Primjer**\n",
    "\n",
    "Napiši program koji od korisnika traži upis jedne riječi, a na ekranu ispisuje novu riječ koja se sastoji od prva dva i zadnja dva znaka te riječi. Ako je riječ duga 4 ili manje znakova onda bi se trebala ispisati originalno upisana riječ.\n",
    "\n",
    "*Rješenje:*"
   ]
  },
  {
   "cell_type": "code",
   "execution_count": null,
   "metadata": {},
   "outputs": [],
   "source": [
    "unos = input(\"Upiši jednu riječ: \")\n",
    "print(\"Upisana riječ:\", unos)\n",
    "if len(unos) <= 4:\n",
    "    print(\"Nova riječ je:\", unos)\n",
    "else:\n",
    "    print(\"Nova riječ je:\", unos[:2]+unos[-2:])"
   ]
  },
  {
   "cell_type": "markdown",
   "metadata": {},
   "source": [
    "### Operatori za stringove\n",
    "\n",
    "Za stringove je definirano nekoliko operatora koji se mogu koristiti za direktno manipuliranje:"
   ]
  },
  {
   "cell_type": "code",
   "execution_count": null,
   "metadata": {},
   "outputs": [],
   "source": [
    "s1 = \"zec\"\n",
    "s2 = \"gadiš mi se\"\n",
    "\n",
    "print(s1+\" \"+s2) # zbrajanje stringova ih spaja zajedno\n",
    "print(3*s1) # ako string množimo sa integerom to će umnožiti string toliko puta\n",
    "print(\"patak\" in s2) # in operator se koristi za provjeru je li neki string sadržan u nekom drugom stringu\n",
    "print(\"patak\" not in s2) # not in je negirana verzija, oboje vraćaju logičku vrijednost"
   ]
  },
  {
   "cell_type": "markdown",
   "metadata": {},
   "source": [
    "### Funkcije i metode za stringove\n",
    "\n",
    "Za početak ćemo proći nekoliko funkcija koje općenito rade sa zbirkama (pa tako i sa stringovima), no koje su često korisne za stringove:\n",
    "|Ime funkcije|Što funkcija radi|\n",
    "|:-|:-|\n",
    "|`len(zbirka)`|Rezultat je broj elemenata zbirke. Za stringove će ovo vratiti broj znakova|\n",
    "|`min(zbirka)`|Vraća element zbirke s najmanjom vrijednosti|\n",
    "|`max(zbirka)`|Vraća element zbirke s najvećom vrijednosti|"
   ]
  },
  {
   "cell_type": "code",
   "execution_count": null,
   "metadata": {},
   "outputs": [],
   "source": [
    "s = \"Ovo je primjer rečenice.\"\n",
    "print(\"Duljina stringa:\",len(s))\n",
    "print(\"Element s najmanjom vrijednosti:\", min(s))\n",
    "print(\"Element s najvećom vrijednosti:\", max(s))"
   ]
  },
  {
   "cell_type": "markdown",
   "metadata": {},
   "source": [
    "Za stringove minimalna i maksimalna vrijednost se utvrđuje prema brojčanoj vrijednosti koju svaki znak ima u UNICODE kodnoj tablici. Iz ovog razloga za stringove imano nekoliko funkcija koje specifično rade sa znakovima:\n",
    "|Ime funkcije|Što funkcija radi|\n",
    "|:-|:-|\n",
    "|`ord(znak)`|ord kao argument uzima string koji se sastoji od točno jednog znaka i daje nam brojčanu vrijednost tog znaka|\n",
    "|`chr(vrijednost)`|chr kao argument uzima integer vrijednost i ispisuje nam koji znak odgovara toj vrijednosti prema UNICODE tablici|\n",
    "|`str(objekt)`|Pretvara neki drugi tip podataka u string|"
   ]
  },
  {
   "cell_type": "code",
   "execution_count": null,
   "metadata": {},
   "outputs": [],
   "source": [
    "print(ord(\" \")) #interpunkcijski znakovi i znamenke imaju male vrijednosti\n",
    "print(ord(\"a\")) #mala slova zapravo imaju veće vrijednosti od velikih\n",
    "print(ord(\"A\"))\n",
    "print(ord(\"š\")) #\"naši\" znakovi ne spadaju isti redoslijed po vrijednosti kao ovi za englesku abecedu\n",
    "print(ord(\"❤\")) #emoji isto imaju svoje vrijednosti"
   ]
  },
  {
   "cell_type": "code",
   "execution_count": null,
   "metadata": {},
   "outputs": [],
   "source": [
    "print(chr(65)) # veliko slovo A u engleskoj abecedi\n",
    "print(chr(ord(\"A\")+3)) # A+3 = D jer je D za tri znaka dalje u engleskoj abecedi\n",
    "print(chr(0x1F602)) # ovako se može unositi heksadecimalne vrijednosti direktno s unicode-table.com"
   ]
  },
  {
   "cell_type": "code",
   "execution_count": null,
   "metadata": {},
   "outputs": [],
   "source": [
    "print(str(65)) # pretvara broj u string\n",
    "print(str([1,2,3,4])) # i lista se može pretvoriti u string"
   ]
  },
  {
   "cell_type": "markdown",
   "metadata": {},
   "source": [
    "Osim ovih funkcija stringovi imaju cijeli niz metoda. Metodama se kao i za sve ostale objekte pristupa pomoću točka operatora pa ih nije nužno pamtiti napamet jer će vam se u bilo kojem okruženju za programiranje nakon što unesete `.` prikazati popis metoda (ako se slučajno zatvorio uvijek ga možete vratiti pomoću Ctrl+Space). Metode ćemo raditi na odvojenim primjerima onda kako će nam trebati.\n",
    "\n",
    "**2. primjer**\n",
    "\n",
    "Napišite program koji korisniku omogućava unos riječi i indeksa zajedno, odvojene zarezom. Npr:\n",
    "\n",
    "> `informatika,6`\n",
    "\n",
    "Program treba ispisati riječ bez slova koje se nalazi na indeksu, a ako je uneseni indeks nevažeći onda se ne radi ništa.\n",
    "\n",
    "Rješenje:"
   ]
  },
  {
   "cell_type": "code",
   "execution_count": null,
   "metadata": {},
   "outputs": [],
   "source": [
    "unos = input(\"Upiši riječ i indeks odvojen zarezom\")\n",
    "print(\"Upisana riječ:\", unos)\n",
    "# metoda .split() razdvaja string u listu prema znaku koji odaberemo\n",
    "# ovdje se razdvaja po zarezu pa će za unos \"informatika,6\" nakon .split(\",\") biti [\"informatika\",\"6\"]\n",
    "riječ, indeks = unos.split(\",\")[0] , int(unos.split(\",\")[1])\n",
    "if indeks >= len(riječ):\n",
    "    print(\"Indeks ne odgovara unesenom stringu, najveći indeks je\",len(riječ)-1)\n",
    "else:\n",
    "    print(\"Riječ bez slova na indeksu \"+str(indeks)+\": \"+riječ[:indeks]+riječ[indeks+1:])"
   ]
  },
  {
   "cell_type": "markdown",
   "metadata": {},
   "source": [
    "### Formatiranje stringova\n",
    "\n",
    "U ranijem primjeru koristili smo operator + za kombiniranje više stringova zajedno u poruku. Makar je operacija dopuštena ovakav način pisanja nije najpregledniji i pritom uvijek trebamo paziti da podatke koji nisu string pretvorimo ispravno. U starijim verzijama Pythona je zato napravljena `.format()` metoda koja je služila za uređivanje stringova koji se šalju u print() funkciju. U novijim verzijama Pythona su uvedeni tzv. *f-stringovi* koji rade istu stvar, ali na još pregledniji način:"
   ]
  },
  {
   "cell_type": "code",
   "execution_count": null,
   "metadata": {},
   "outputs": [],
   "source": [
    "# posljednji print 2. primjera:\n",
    "riječ, indeks = \"informatika\",6\n",
    "# bez formatiranja\n",
    "print(\"Riječ bez slova na indeksu \"+str(indeks)+\": \"+riječ[:indeks]+riječ[indeks+1:])\n",
    "# sa .format() metodom se varijable ubacuju na mjesto {}\n",
    "print(\"Riječ bez slova na indeksu {}: {}\".format(indeks, riječ[:indeks]+riječ[indeks+1:]))\n",
    "# ista stvar sa f-stringovima, samo ispred \"\" dodamo f ili F da bi napravili f-string\n",
    "print(f\"Riječ bez slova na indeksu {indeks}: {riječ[:indeks]+riječ[indeks+1:]}\")"
   ]
  },
  {
   "cell_type": "markdown",
   "metadata": {},
   "source": [
    "Svi ovi primjeri rade istu stvar, ali generalno f-stringovi nam daju najpregledniji kod i najviše fleksibilnosti. Kompletni primjer opcija koje se mogu koristiti sa .format() ili sa f-stringovima se nalazi <a href=\"https://www.w3schools.com/python/ref_string_format.asp\">ovdje</a>.\n",
    "\n",
    "**3. Primjer**\n",
    "\n",
    "Napiši program koji omogućava unos više rezultata mjerenja duljine (svako odvojeno zarezom), a računa srednju vrijednost i apsolutnu maksimalnu grešku, te na kraju ispisuje rezultat zaokružen na najveću pouzdanu znamenku u formatu: *srednja vrijednost±greška*\n",
    "\n",
    "Rješenje:"
   ]
  },
  {
   "cell_type": "code",
   "execution_count": 17,
   "metadata": {},
   "outputs": [
    {
     "ename": "ImportError",
     "evalue": "cannot import name 'abs' from 'math' (unknown location)",
     "output_type": "error",
     "traceback": [
      "\u001b[1;31m---------------------------------------------------------------------------\u001b[0m",
      "\u001b[1;31mImportError\u001b[0m                               Traceback (most recent call last)",
      "\u001b[1;32m<ipython-input-17-21bde9830bf4>\u001b[0m in \u001b[0;36m<module>\u001b[1;34m\u001b[0m\n\u001b[1;32m----> 1\u001b[1;33m \u001b[1;32mfrom\u001b[0m \u001b[0mmath\u001b[0m \u001b[1;32mimport\u001b[0m \u001b[0mabs\u001b[0m\u001b[1;33m\u001b[0m\u001b[1;33m\u001b[0m\u001b[0m\n\u001b[0m\u001b[0;32m      2\u001b[0m \u001b[1;33m\u001b[0m\u001b[0m\n\u001b[0;32m      3\u001b[0m \u001b[0munos\u001b[0m \u001b[1;33m=\u001b[0m \u001b[0minput\u001b[0m\u001b[1;33m(\u001b[0m\u001b[1;34m\"Upiši rezultate mjerenja duljine u cm, svaki broj neka je odvojen zarezom:\"\u001b[0m\u001b[1;33m)\u001b[0m\u001b[1;33m\u001b[0m\u001b[1;33m\u001b[0m\u001b[0m\n\u001b[0;32m      4\u001b[0m \u001b[0mrezultati\u001b[0m \u001b[1;33m=\u001b[0m \u001b[0munos\u001b[0m\u001b[1;33m.\u001b[0m\u001b[0msplit\u001b[0m\u001b[1;33m(\u001b[0m\u001b[1;34m\",\"\u001b[0m\u001b[1;33m)\u001b[0m\u001b[1;33m\u001b[0m\u001b[1;33m\u001b[0m\u001b[0m\n\u001b[0;32m      5\u001b[0m \u001b[1;33m\u001b[0m\u001b[0m\n",
      "\u001b[1;31mImportError\u001b[0m: cannot import name 'abs' from 'math' (unknown location)"
     ]
    }
   ],
   "source": [
    "from math import abs\n",
    "\n",
    "unos = input(\"Upiši rezultate mjerenja duljine u cm, svaki broj neka je odvojen zarezom:\")\n",
    "rezultati = unos.split(\",\")\n",
    "\n",
    "# prvo računamo srednju vrijednost\n",
    "zbroj = 0\n",
    "for broj in rezultati:\n",
    "    zbroj = zbroj + float(broj)\n",
    "srednja = zbroj / len(rezultati)\n",
    "\n",
    "# maksimalna apsolutna greška\n",
    "greška = 0\n",
    "for broj in rezultati:\n",
    "    razlika = abs(srednja-float(broj)) # apsolutna razlika nam računa trenutnu grešku\n",
    "    if razlika >= greška: # ako je trenutna razlika veća od prethodno spremljene greške onda je to maksimalna greška\n",
    "        greška = razlika\n",
    "\n",
    "greška%1"
   ]
  }
 ],
 "metadata": {
  "interpreter": {
   "hash": "02776833e336d0844d1cb9243136a1912065e925e46192a6c392e90ffa596e2b"
  },
  "kernelspec": {
   "display_name": "Python 3.8.2 64-bit",
   "name": "python3"
  },
  "language_info": {
   "codemirror_mode": {
    "name": "ipython",
    "version": 3
   },
   "file_extension": ".py",
   "mimetype": "text/x-python",
   "name": "python",
   "nbconvert_exporter": "python",
   "pygments_lexer": "ipython3",
   "version": "3.8.2"
  },
  "orig_nbformat": 4
 },
 "nbformat": 4,
 "nbformat_minor": 2
}
