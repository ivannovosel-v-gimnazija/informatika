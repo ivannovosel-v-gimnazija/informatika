{
 "cells": [
  {
   "cell_type": "markdown",
   "metadata": {},
   "source": [
    "**1. Zadatak**\n",
    "\n",
    "U svakom redu tekstualne datoteke `operacije.txt` nalaze se podaci u sljedećem obliku:\n",
    "\n",
    "> *broj* **operator** *broj*\n",
    "\n",
    "a) Napiši program koji će u svaki red datoteke `rezultati.txt` ispisivati rezultat tako da na unesene brojeve primijeni operator. Dozvoljeni operatori su +, -, * i /. Za prvu ruku pretpostavite da su svi podaci ispravno uneseni u datoteku.\n",
    "\n",
    "b) Nadogradi program tako da provjeri sva potencijalna odstupanja od željenog formata i ako je neki red krivo unesen umjesto rezultata operacije upiše riječ *greška*\n",
    "\n",
    "Primjer sadržaja datoteka:\n",
    "\n",
    "|Sadržaj **operacije.txt**|Sadržaj **rezultati.txt**|\n",
    "|:-|:-|\n",
    "|`3 * 5`|15|\n",
    "|`4 +8`|greška|\n",
    "|`19 - 12`|7|\n",
    "|`7 / 2`|3.5|\n",
    "|` / 3`|greška|"
   ]
  },
  {
   "cell_type": "code",
   "execution_count": 5,
   "metadata": {},
   "outputs": [],
   "source": [
    "# ovdje upišite kod rješenja za 1. zadatak\n",
    "\n",
    "with open(\"operacije.txt\", encoding=\"utf-8\") as datoteka:\n",
    "    redovi = datoteka.readlines()\n",
    "\n",
    "podaci = []\n",
    "for red in redovi:\n",
    "    podaci.append(red.strip().split(\" \"))\n",
    "\n",
    "rezultati = []\n",
    "for red in podaci:\n",
    "    if red[1] == \"+\":\n",
    "        rezultati.append(int(red[0])+int(red[2]))\n",
    "    elif red[1] == \"-\":\n",
    "        rezultati.append(int(red[0])-int(red[2]))\n",
    "    elif red[1] == \"*\":\n",
    "        rezultati.append(int(red[0])*int(red[2]))\n",
    "    elif red[1] == \"/\":\n",
    "        rezultati.append(int(red[0])/int(red[2]))\n",
    "    else:\n",
    "        rezultati.append(\"greška\")\n",
    "\n",
    "for i in range(len(rezultati)):\n",
    "    rezultati[i] = str(rezultati[i])+\"\\n\"\n",
    "\n",
    "with open(\"rezultati.txt\", \"wt\", encoding=\"utf-8\") as datoteka:\n",
    "    datoteka.writelines(rezultati)"
   ]
  },
  {
   "cell_type": "markdown",
   "metadata": {},
   "source": [
    "**2. Zadatak**\n",
    "\n",
    "Napiši program koji će za neku tekstualnu datoteku napraviti izračun frekvencije pojavljivanja znakova. Frekvencija znaka se definira kao $f = \\frac{N_{znak}}{N_{ukupno}}$. $N_{znak}$ je broj pojavljivanja nekog znaka, a $N_{ukupno}$ je ukupni broj **svih** znakova u datoteci. Za potrebe brojanja nema razlike između malih i velikih slova (npr. \"a\" i \"A\" se trebaju brojati kao isti znak).\n",
    "\n",
    "Korisnik upisuje putanju do datoteke za koju želi izračun frekvencija, a naš program bi rezultat trebao ispisati u datoteku koja se nalazi u istoj mapi kao i ulazna datoteka i zove se *frekvencije_originalninaziv.txt*. Format sadržaja datoteke je:\n",
    "\n",
    "> Izračun frekvencije za: *putanja do datoteke*\n",
    "\n",
    "> Ukupan broj znakova: *broj*\n",
    "\n",
    "> Frekvencije znakova:\n",
    "\n",
    ">&emsp;A&emsp;&emsp;B&emsp;&emsp;C&emsp;&emsp;D&emsp;&emsp;...\n",
    "\n",
    ">&emsp;0.03&emsp;0.01&ensp;0.005&ensp;0.01&ensp;..."
   ]
  },
  {
   "cell_type": "code",
   "execution_count": 17,
   "metadata": {},
   "outputs": [],
   "source": [
    "# ovo j\n",
    "\n",
    "putanja = input(\"Upiši putanju do datoteke: \")\n",
    "\n",
    "with open(putanja, encoding=\"utf-8\") as datoteka:\n",
    "    tekst = datoteka.read()\n",
    "\n",
    "ukupno = len(tekst)\n",
    "tekst = tekst.lower()\n",
    "\n",
    "znakovi = []\n",
    "frekvencije = []\n",
    "\n",
    "for znak in tekst:\n",
    "    if znak not in znakovi:\n",
    "        znakovi.append(znak)\n",
    "        frekvencije.append(1)\n",
    "    else:\n",
    "        frekvencije[znakovi.index(znak)] += 1\n",
    "\n",
    "for i in range(len(frekvencije)):\n",
    "    frekvencije[i] = frekvencije[i]/ukupno\n",
    "    frekvencije[i] = str(round(frekvencije[i],4))\n",
    "\n",
    "znakovi[znakovi.index(\"\\n\")] = \"\\ n\"\n",
    "izlaz = f\"Izračun frekvencije za: {putanja}\\nUkupan broj znakova: {ukupno}\\nFrekvencije znakova:\\n\"+\"\\t\\t\".join(znakovi)+\"\\n\"+\"\\t\".join(frekvencije)\n",
    "\n",
    "with open(\"frekvencije_\"+putanja, \"wt\", encoding=\"utf-8\") as datoteka:\n",
    "    datoteka.write(izlaz)"
   ]
  },
  {
   "cell_type": "code",
   "execution_count": 13,
   "metadata": {},
   "outputs": [
    {
     "name": "stdout",
     "output_type": "stream",
     "text": [
      "1\t2\t3\t4\t5\n"
     ]
    }
   ],
   "source": [
    "print(\"\\t\".join([\"1\",\"2\",\"3\",\"4\",\"5\"]))"
   ]
  },
  {
   "cell_type": "markdown",
   "metadata": {},
   "source": [
    "**3. Zadatak**\n",
    "\n",
    "U tekstualnoj datoteci `ulaz.txt` u svakom retku datoteke nalazi se jedna ili više riječi međusobno odvojenih s jednim ili više razmaka. Napiši program koji će odrediti: 1) koliko ukupno znakova se pojavljuje u datoteci, 2) koliko je znakova koji nisu prazna mjesta (razmak, novi red i sl.), 3) koliko riječi se pojavljuje u tekstu datoteke.\n",
    "\n",
    "Program rezultat ispisuje na ekranu, a ne u datoteku."
   ]
  },
  {
   "cell_type": "code",
   "execution_count": null,
   "metadata": {},
   "outputs": [],
   "source": [
    "# ovdje upiši rješenje za 3. zadatak"
   ]
  },
  {
   "cell_type": "markdown",
   "metadata": {},
   "source": [
    "**4. Zadatak**\n",
    "\n",
    "Modificiraj program iz 1. zadatka tako da se rješenja računa ne ispisuju u zasebnu datoteku, već da se rezultati dopisuju u originalnu datoteku na kraju svakog reda.\n",
    "\n",
    "Primjer sadržaja datoteke prije i poslije:\n",
    "\n",
    "|Sadržaj **operacije.txt** prije|Sadržaj **operacije.txt** poslije|\n",
    "|:-|:-|\n",
    "|`3 * 5`|`3 * 5 = 15`|\n",
    "|`4 +8`|`4 +8 = greška`|\n",
    "|`19 - 12`|`19 - 12 = 7`|\n",
    "|`7 / 2`|`7 / 2 = 3.5`|\n",
    "|` / 3`|` / 3 = greška`|"
   ]
  },
  {
   "cell_type": "code",
   "execution_count": null,
   "metadata": {},
   "outputs": [],
   "source": [
    "# ovdje upiši rješenje za 4. zadatak"
   ]
  },
  {
   "cell_type": "markdown",
   "metadata": {},
   "source": [
    "**5. Zadatak**\n",
    "\n",
    "U prvom retku ulazne tekstualne datoteke nalazi se nekoliko znakova međusobno odvojenih razmakom. U sljedećih nekoliko redaka nalaze se riječi međusobno odvojenih razmakom. Primjer:\n",
    "\n",
    ">Č Ć Š Đ Ž\n",
    "\n",
    ">U OVOM TEKSTU POTREBNO JE IZBACITI SVE RIJEČI KOJE SADRŽE DIJAKRITIČKE ZNAKOVE\n",
    "\n",
    "Napiši program koji će u odvojenu izlaznu datoteku prepisati samo riječi koje u sebi sadrže barem jedan od znakova iz prvog retka."
   ]
  },
  {
   "cell_type": "code",
   "execution_count": null,
   "metadata": {},
   "outputs": [],
   "source": [
    "# ovdje upiši rješenje za 5. zadatak"
   ]
  },
  {
   "cell_type": "markdown",
   "metadata": {},
   "source": [
    "**6. Zadatak**\n",
    "\n",
    "U tekstualnoj datoteci `temperature.csv` nalazi se tablica s vrijednostima prosječnih temperatura za pojedine mjesece u nekoliko različitih gradova (datoteka je priložena u kanalu Informatika s ostalim datotekama).\n",
    "\n",
    "Napiši program koji će u datoteku `gradovi.txt` u svaki redak napisati ime grada, prosječnu godišnju temperaturu zaokruženu na dvije znamenke i ime mjeseci u kojima se pojavljuje najveća temperatura. Primjer za Zagreb:\n",
    "\n",
    "`Zagreb 12.25 Srpanj Kolovoz`"
   ]
  },
  {
   "cell_type": "code",
   "execution_count": null,
   "metadata": {},
   "outputs": [],
   "source": [
    "# ovdje upiši rješenje za 6. zadatak"
   ]
  }
 ],
 "metadata": {
  "interpreter": {
   "hash": "02776833e336d0844d1cb9243136a1912065e925e46192a6c392e90ffa596e2b"
  },
  "kernelspec": {
   "display_name": "Python 3.8.2 64-bit",
   "language": "python",
   "name": "python3"
  },
  "language_info": {
   "codemirror_mode": {
    "name": "ipython",
    "version": 3
   },
   "file_extension": ".py",
   "mimetype": "text/x-python",
   "name": "python",
   "nbconvert_exporter": "python",
   "pygments_lexer": "ipython3",
   "version": "3.8.2"
  },
  "orig_nbformat": 4
 },
 "nbformat": 4,
 "nbformat_minor": 2
}
