{
 "cells": [
  {
   "cell_type": "markdown",
   "metadata": {},
   "source": [
    "# Datoteke\n",
    "\n",
    "Do sad smo radili unos u program pomoću tipkovnice, no vrlo je praktično da naš program može čitati podatke iz neke datoteke ili spremiti rezultat izvršavanja u datoteku kad je gotov. Pogotovo ako radimo unos puno podataka unos preko tipkovnice može postati jako nepraktičan. Datoteke same po sebi nisu tip podataka unutar Pythona, ali postoje funkcije koje služe za čitanje ili pisanje u datoteke. Mi ćemo tipično koristiti tekstualne datoteke pa će sadržaj datoteke unutar Pythona dolaziti u obliku stringa.\n",
    "\n",
    "## Operativni sustav kontrolira datoteke\n",
    "\n",
    "Ovo smo spominjali u prvom razredu, ali OS je taj koji ostalim programima daje pristup datotekama. Tako ćemo i mi kod izrade naših programa koji čitaju i pišu datoteke morati pripaziti na pravila koje diktira naš operativni sustav.\n",
    "\n",
    "Prva stvar na koju ćete obično morati pripaziti je da ako se datoteka na jednom računalu nalazi na određenoj lokaciji, ako se prebacimo na drugo računalo onda ona više ne mora nužno biti na istoj lokaciji! Ovo se na prvi pogled čini banalno, ali ako ja pišem program na svojem računalu i unutar programa navedem putanju do datoteke onda ćete u puno slučajeva vi obavezno morati modificirati taj dio programa kako bi odgovarao lokaciji na vašem računalu.\n",
    "\n",
    "Primjer:\n",
    "> Na mojem računalu datoteka koju upravo sad čitate se nalazi na lokaciji:\n",
    "\n",
    ">`C:\\Users\\Korisnik\\Desktop\\informatika\\Datoteke.ipynb`\n",
    "\n",
    "> Kada ju preuzmete na vaše računalo najvjerojatnije će se prvo nalaziti u `C:\\Users\\Korisnik\\Downloads`\n",
    "\n",
    "### Putanja do datoteke\n",
    "\n",
    "Na operativnom sustavu Windows datoteke su organizirane po mapama, koja svaka ima svoj tekstualni zapis koji opisuje gdje se nalazi na hard disku/nekoj stalnoj memoriji. Taj zapis zove se **putanja do datoteke**. Obično glavni hard disk ima oznaku `C:` i slova idu na više kada se priključi neki novi disk ili memorija. Znak `\\` (eng. backslash, na tipkovnici se dobije sa alt gr + q) služi kao znak koji odvaja imena mapa. Root ili korjenska mapa `C:\\` je mapa koja doslovce sadrži sve ostale mape na disku C. U ranijem primjeru:\n",
    "\n",
    ">`C:\\Users\\Korisnik\\Desktop\\informatika\\Datoteke.ipynb`\n",
    "\n",
    "Na kraju putanje nakon posljednjeg \\ nalazi se samo ime datoteke koje možemo prepoznati po tome da ima točku i nastavak koji opisuje o kakvoj se datoteci radi (.ipynb je nastavak za Jupyter Notebook).\n",
    "\n",
    "Kada gledate u grafičko sučelje Windowsa putanje nisu normalno vidljive, ali se mogu lako saznati za bilo koju mapu ili datoteku. Desni klik na bilo koju ikonu dat će vam izbornik u kojem odabirete zadnju opciju, Properties:\n",
    "\n",
    "![properties](.\\properties.png)\n",
    "\n",
    "Nakon toga se otvara novi prozorčić sa svojstvima mape ili datoteke koju ste odabrali. Za datoteke ćete vidjeti ime datoteke i samu putanju:\n",
    "\n",
    "![lokacija](.\\lokacija.png)\n",
    "\n",
    "Svi operativni sustavi prepoznaju dva tipa putanje: **apsolutnu** i **relativnu**. Ovo što sam do sada opisivao je apsolutna putanja datoteke i ona se uvijek piše kompletno počevši od korjenske mape. Relativne putanje funkcioniraju s obzirom na trenutno aktivnu mapu. Što je trenutno aktivna mapa ovisi od programa koji je trenutno pokrenut. Npr. ova bilježnica je sama po sebi program i vi ste ju pokrenuli iz mape u kojoj se nalazi kod vas na disku - to postaje aktivna mapa za taj program.\n",
    "\n",
    "Ako se neka datoteka nalazi unutar trenutno aktivne mape onda je *dovoljno navesti samo njezino ime*. Ako operativni sustav vidi da ste u putanji naveli samo ime datoteke on će automatski pretpostaviti da se radi o relativnoj adresi i da treba pogledati u trenutno aktivnu mapu. Alternativno oznaka za aktivnu mapu je `.\\` (točka ispred backslasha). Npr. `.\\lokacija.png` je PNG datoteka koja se zove lokacija i nalazi se unutar trenutno aktivne mape, tj. ona je  u istoj mapi kao i  `Datoteke.ipynb`.\n",
    "\n",
    "Ako želimo ići u druge mape koje se nalaze unutar trenutno aktivne onda je dovoljno navesti njihovo ime. Npr. `.\\nekadrugamapa\\file.txt` će potražiti datoteku koja se zove `file.txt` unutar mape `nekadrugamapa` koja se nalazi u trenutno aktivnoj mapi. Ako želimo prelaziti u mape koje su bliže korjenskoj (dakle koje sadrže trenutno aktivnu mapu) to radimo sa `..\\`\n",
    "\n",
    "Primjer:\n",
    "\n",
    "> Uzmimo da je trenutno aktivna mapa:\n",
    "\n",
    "> `C:\\Users\\Korisnik\\Desktop\\informatika\\`\n",
    "\n",
    "> Ako bi htjeli koristiti datoteku `marko.txt` koja se nalazi u mapi `Korisnik` ona se nalazi dvije mape ispod `informatika`. Relativna putanja koja nam dohvaća tu datoteku je `..\\..\\marko.txt`\n",
    "\n",
    "Prednost relativnih adresa je što su pisane na način koji bi trebao funkcionirati i na drugom računalu. Npr. slike koje ste vidjeli malo ranije u ovom tekstu su odvojene datoteke koje dolaze u istoj mapi kao i sama bilježnica. Korištenjem relativnih adresa slike se ispravno prikazuju makar njihova lokacija na vašem i mojem računalu sigurno nije ista. Osnovna prednost apsolutnih adresa je što ih jednostavno možete saznati prema postupku koji sam vam opisao ranije.\n",
    "\n",
    "### Pravo čitanja/pisanja\n",
    "\n",
    "Osim što brine za lociranje datoteka i mapa operativni sustav brine za dozvole koje datoteke se smiju koristiti i kako. Tipična situacija koju operativni sustav dopušta je da dva programa mogu istovremeno otvoriti datoteku za čitanje, ali samo jedan može pisati po njoj. Dobra praksa je da kad se nešto radi s datotekama program otvori datoteku za namjenu koja mu treba, učita je u radnu memoriju i nakon toga otpusti kako bi neki drugi programi potencijalno mogli pristupiti datoteci.\n",
    "\n",
    "Generalno ovo znači da većina programa koje i inače koristite u datoteku zapisuje samo kad vi eksplicitno kažete da se podaci spreme, u međuvremenu ne dira sadržaj same datoteke. Pripazite na takve situacije jer često se desi da npr. učenici naprave tekstualnu datoteku u nekom programu za pisanje teksta (npr. Notepad), ne spreme sadržaj i onda pokušaju čitati takvu datoteku sa svojim programom pisanim u Pythonu. Python će pročitati da je datoteka prazna jer program u kojem je datoteka napravljena još ništa nije spremio u nju. U tom slučaju činit će vam se kao da vaš program ne radi, a sve što se desilo da datoteka nije ispravno spremljena.\n",
    "\n",
    "Neke mape na vašem hard disku (ili onom u školi) su označene samo za čitanje. U takvim mapama nećete moći stvarati nove datoteke ili pisati po njima, već je moguće samo čitanje.\n",
    "\n",
    "### Tipovi datoteka\n",
    "\n",
    "Prošle godine smo radili različite zapise podataka na računalo. Tipovi datoteka se obično definiraju njihovim nastavkom, ali ono što je zapravo važno je sadržaj. Po sadržaju kod čitanja/pisanja obično razlikujemo samo dva tipa datoteka:\n",
    "\n",
    " - **tekstualne**: sadržaj datoteke je tekst, obično spremljen u UNICODE zapisu. Kod čitanja binarnog zapisa datoteke on se automatski interpretira kao tekst.\n",
    " - **binarne**: sadržaj je neki proizvoljni zapis bitova. Ovo je generalni zapis za bilo što što nije tekst, samo onda moramo znati kako se pojedini bitovi interpretiraju (s ovakvim zapisom se nećemo puno baviti)"
   ]
  },
  {
   "cell_type": "markdown",
   "metadata": {},
   "source": [
    "### Otvaranje datoteka u Pythonu\n",
    "\n",
    "Prvi korak kod rukovanja datoteka je njihovo otvaranje, nakon toga možemo raditi neke operacije s njima. U Pythonu to funkcionira tako što se kod otvaranja datoteke otvara specijalni objekt koji nam omogućava rukovanje s datotekom pomoću funkcije `open()`. Funkcija open() za argumente uzima putanju do datoteke, i način korištenja, a kao rezultat (ako se datoteka uspješno otvori) nam vraća tzv. handler object."
   ]
  },
  {
   "cell_type": "code",
   "execution_count": null,
   "metadata": {},
   "outputs": [],
   "source": [
    "datoteka = open(\"pokus.txt\",\"wt\")\n",
    "datoteka.write(\"Ovo je pokusna datoteka i ovaj tekst bi se trebao pojaviti u datoteci!\")\n",
    "datoteka.close()"
   ]
  },
  {
   "cell_type": "markdown",
   "metadata": {},
   "source": [
    "`datoteka` je objekt za rukovanje datotekom. `open(\"pokus.txt\",\"wt\")` znači da će se u trenutno aktivnoj mapi otvoriti nova datoteka imena pokus.txt i ta datoteka će biti tekstualna datoteka otvorena za pisanje. Nakon toga pozivanjem metoda za datoteke prvo pišemo u datoteku sa `.write()` i kad smo gotovi zatvaramo datoteku sa `.close()`. write() metoda radi jednako kao i print() samo što se rezultat ne ispisuje na ekran već se rezultat piše u datoteku -> pogledaj je li se datoteka pokus.txt pojavila u mapi gdje se nalazi ova bilježnica!\n",
    "\n",
    "Ovaj jednostavni primjer za otvaranje i pisanje u datoteku nije nužno najbolji način otvaranja datoteke. Naime da se kod otvaranja datoteke dogodila greška naš program bi generalno prestao raditi. Također mi se sami moramo sjetiti zatvoriti datoteku na kraju. Dobra praksa je pozvati otvaranje datoteke unutar tzv. `with ... as` bloka naredbi koji izgleda ovako:"
   ]
  },
  {
   "cell_type": "code",
   "execution_count": 1,
   "metadata": {},
   "outputs": [
    {
     "name": "stdout",
     "output_type": "stream",
     "text": [
      "ppp\n"
     ]
    }
   ],
   "source": [
    "with open(\".proba/pokus.txt\") as ulaz:\n",
    "    podaci = ulaz.read()\n",
    "\n",
    "print(podaci)"
   ]
  },
  {
   "cell_type": "markdown",
   "metadata": {},
   "source": [
    "U ovom primjeru `ulaz` je objekt za rukovanje datotekom. Ako se open() funkciji ostavi samo ime datoteke ona se standardno interpretira kao tekstualna datoteka otvorena za čitanje. Ako koristimo with ... as: blok naredbi kad je blok završen datoteka se automatski zatvara. Ako ste uspješno pokrenuli raniji kod, pa zatim ovaj, `ulaz.read()` metoda će pročitati sadržaj datoteke i zapisati to u varijablu `podaci` kao string.\n",
    "\n",
    "**Opcije kod otvaranja datoteke**\n",
    "\n",
    "|Opcija|Što radi?|\n",
    "|:-|:-|\n",
    "|r|Otvara datoteku za čitanje.|\n",
    "|w|Otvara datoteku za pisanje, s time da na početku izbriše sav sadržaj datoteke ako ona ima nešto u sebi.|\n",
    "|a|Otvara datoteku za pisanje, s time da se novi sadržaj dodaje na kraj datoteke, a stari sadržaj ostaje|\n",
    "|+|Otvara datoteku za dopunjavanje, moguće je istovremeno čitanje i pisanje|\n",
    "|x|Otvara novu datoteku za pisanje, ako postoji datoteka s istim imenom javlja grešku|\n",
    "|b|Interpretira datoteku kao binarni sadržaj|\n",
    "|t|Interpretira datoteku kao tekstualni sadržaj|\n",
    "\n",
    "Modifikatori se mogu kombinirati, a ako se ovaj argument izostavi standardno je u uporabi \"rt\" (čitanje tekstualne datoteke).\n",
    "\n",
    "**Na što pripaziti**\n",
    "\n",
    "Ako se datoteka otvara s apsolutnom putanjom do datoteke dobro je koristiti tzv. sirovi string (eng. raw string). Naime \\ (backslash) koji se standardno koristi za putanje u Windowsima je isti znak koji se u svim programskim jezicima koristi za specijalne oznake u stringovima (npr. \\n je novi red). Ako dodamo r ispred stringa time Pythonu govorimo da tretira znakove tako kako pišu, bez specijalnih oznaka:\n",
    "\n",
    "`r\"C:\\Users\\korisnici.txt\"`\n",
    "\n",
    "Čisto kao primjer, evo kako isti string vidi print() funkcija:"
   ]
  },
  {
   "cell_type": "code",
   "execution_count": null,
   "metadata": {},
   "outputs": [],
   "source": [
    "print(r\"C:\\Users\\korisnici.txt\")\n",
    "# ovdje python ignorira sve \\ oznake"
   ]
  },
  {
   "cell_type": "code",
   "execution_count": null,
   "metadata": {},
   "outputs": [],
   "source": [
    "print(\"C:\\Users\\korisnici.txt\")\n",
    "# \\u je specijalna oznaka za unos unicode znakova i ovakav string daje grešku zbog toga"
   ]
  },
  {
   "cell_type": "markdown",
   "metadata": {},
   "source": [
    "Druga stvar koja predstavlja problem na Windowsima specifično je podrška za Unicode. Naime makar se radi o de facto standardu za zapis znakova Windowsi do dan danas nemaju kompletnu podršku za isti i ako koristite normalne programe kako bi prvo napravili svoju datoteku, a onda čitate tu datoteku sa Pythonom nastaje problem ako ne postavite ispravni **encoding**.\n",
    "\n",
    "Datoteka `primjer.txt` koja dolazi u ovoj mapi je napravljena pomoću Notepada, programa koji je vrlo jednostavi uređivač teksta. Taj program je koristan jer radi čiste tekstualne datoteke, ali ima problema sa načinom na koji se bilježi Unicode. p.s. VS Code je također uređivač teksta tako da možemo i njega koristiti za izradu jednostavnih tekstualnih datoteka. No problem ispod bi bio isti..."
   ]
  },
  {
   "cell_type": "code",
   "execution_count": null,
   "metadata": {},
   "outputs": [],
   "source": [
    "with open(\"primjer.txt\") as datoteka:\n",
    "    ulaz = datoteka.read()\n",
    "\n",
    "print(ulaz)"
   ]
  },
  {
   "cell_type": "code",
   "execution_count": null,
   "metadata": {},
   "outputs": [],
   "source": [
    "# ako dodamo encoding=\"utf-8\" onda python forsiramo da kod čitanja ili pisanja koristi utf-8 zapis\n",
    "with open(\"primjer.txt\", encoding=\"utf-8\") as datoteka:\n",
    "    ulaz = datoteka.read()\n",
    "\n",
    "print(ulaz)"
   ]
  },
  {
   "cell_type": "markdown",
   "metadata": {},
   "source": [
    "Moja preporuka je da uvijek dodate `encoding=\"utf-8\"` jer čim koristimo znakove koji nisu standardni dio engleske abecede dolazi do problema na Windows operativnom sustavu!\n",
    "\n",
    "### Metode za čitanje iz datoteke\n",
    "\n",
    "Python ima 3 različite metode za čitanje iz datoteke. Koju koristimo ovisi o tome u kojem obliku želimo dobiti sadržaj iz datoteke:\n",
    "\n",
    "|Metoda|Što vraća kao rezultat?|\n",
    "|:-|:-|\n",
    "|.read()|Čita kompletan sadržaj datoteke i vraća ga kao jedan veliki string.|\n",
    "|.readline()|Čita jedan red datoteke i vraća ga kao string. Ako želimo pročitati cijelu datoteku treba se pozvati više puta.|\n",
    "|.readlines()|Čita kompletnu datoteku, ali svaki red sprema kao odvojeni string, a svi ti stringovi se spremaju u listu.|\n",
    "\n",
    "Pogledajmo sličnosti i razlike na primjeru datoteke `mjerenja.csv`. Ova datoteka koristi tzv. CSV format za zapis tablica. Svaki stupac je odvojen zarezom (ime dolazi od Comma Sepparated Values), a podaci se nalaze svaki u svojem redu."
   ]
  },
  {
   "cell_type": "code",
   "execution_count": null,
   "metadata": {},
   "outputs": [],
   "source": [
    "with open(\"mjerenja.csv\", encoding=\"utf-8\") as datoteka:\n",
    "    cijelo = datoteka.read()\n",
    "\n",
    "cijelo #ovo ide bez print() kako bi vidjeli kako izgleda sam zapis datoteke"
   ]
  },
  {
   "cell_type": "code",
   "execution_count": null,
   "metadata": {},
   "outputs": [],
   "source": [
    "with open(\"mjerenja.csv\", encoding=\"utf-8\") as datoteka:\n",
    "    red = datoteka.readline()\n",
    "\n",
    "red"
   ]
  },
  {
   "cell_type": "code",
   "execution_count": null,
   "metadata": {},
   "outputs": [],
   "source": [
    "with open(\"mjerenja.csv\", encoding=\"utf-8\") as datoteka:\n",
    "    redovi = datoteka.readlines()\n",
    "\n",
    "redovi"
   ]
  },
  {
   "cell_type": "markdown",
   "metadata": {},
   "source": [
    "Uočite da koju god od metoda koristili uvijek radimo sa stringovima, te nam se u njima uredno pojavljuju svi znakovi iz originalne datoteke. \\n je oznaka za novi red (znak koji ostaje kad se pritisne Enter). readline() čita od početka reda dok ne naiđe na znak za novi red, dok će readlines() na kraju svakog reda stati i sljedeći red pisati u novi string u listi. No sve te oznake se nalaze u samim stringovima, pa ćemo ih se trebati riješiti ovisno o načinu čitanja.\n",
    "\n",
    "U svim ovim primjerima sam za svaki odvojeni način čitanja koristio svježe otvorenu datoteku. Ovi oblici čitanja se mogu kombinirati, ali onda moramo računati da ako se dio datoteke već pročitao onda se sljedeća naredba neće vratiti na početak - **datoteke se čitaju sekvencijalno**!"
   ]
  },
  {
   "cell_type": "code",
   "execution_count": null,
   "metadata": {},
   "outputs": [],
   "source": [
    "with open(\"mjerenja.csv\", encoding=\"utf-8\") as datoteka:\n",
    "    naslov = datoteka.readline() # ovo će pročitati samo prvi red\n",
    "    mjerenja = datoteka.readlines() # a ovo će nastaviti dalje sve do kraja\n",
    "\n",
    "print(naslov)\n",
    "print(mjerenja)"
   ]
  },
  {
   "cell_type": "code",
   "execution_count": null,
   "metadata": {},
   "outputs": [],
   "source": [
    "with open(\"mjerenja.csv\", encoding=\"utf-8\") as datoteka:\n",
    "    sve = datoteka.read() # ovo pročita sve\n",
    "    red = datoteka.readline() # ovo neće pročitati ništa jer je read() sam došao od početka do kraja datoteke\n",
    "print(\"Što je pročitao read(): \\n\",sve)\n",
    "print(\"Što je pročitao readline():\\n\",red)"
   ]
  },
  {
   "cell_type": "markdown",
   "metadata": {},
   "source": [
    "Kada Python čita ili piše u datoteku on to radi znak po znak. Možemo zamisliti kao da svaki znak u datoteci ima svoj indeks na kojem se nalazi. Kada izvršite neku naredbu za čitanje ili pisanje mjesto gdje Python čita/piše se polagano pomiče. Ako želimo, mi možemo pomicati to mjesto samostalno, za to se koriste sljedeće metode:\n",
    "|Metoda|Kako se koristi?|\n",
    "|:-|:-|\n",
    "|.tell()|Metoda koja nam govori na kojem je znaku trenutno mjesto čitanja/pisanja, vraća nam int broj|\n",
    "|.seek(mjesto)|Pomiče mjesto čitanja/pisanja, argument je int broj koji je indeks znaka u datoteci|\n",
    "\n",
    "### Metode za pisanje u datoteku\n",
    "\n",
    "Ako smo otvorili datoteku u modu za pisanje onda možemo koristiti jednu od dvije metode za pisanje. Ovdje je važno kako je datoteka otvorena, mjesto gdje se piše ovisi o tome je li odabrana w, a, x ili + opcija.\n",
    "\n",
    "|Metoda|Kako radi?|\n",
    "|:-|:-|\n",
    "|.write(string)|write() metoda očekuje string kao argument i naprosto će zapisati taj string u datoteku|\n",
    "|.writelines(lista)|writelines() kao argument očekuje listu stringova, svaki od tih stringova će zabilježiti u novi red|\n",
    "\n",
    "Ako ste odabrali *a* opciju onda metode za pisanje dodaju sadržaj na kraj datoteke. Opcije *w* i *x* počinju od početka, s time da *w* će uvijek prvo obrisati prethodni sadržaj datoteke. *+* opcija kreće od početka, ali možete slobodno micati mjesto pisanja sa .seek() metodom spomenutom ranije.\n",
    "\n",
    "Za primjer ćemo pogledati program koji bi iz mjerenja.csv pročitao dimenzije, izračunao volumen za svaki red mjerenja i onda rezultate zapisao u novu datoteku:"
   ]
  },
  {
   "cell_type": "code",
   "execution_count": null,
   "metadata": {},
   "outputs": [],
   "source": [
    "with open(\"mjerenja.csv\", encoding=\"utf-8\") as datoteka:\n",
    "    naslov = datoteka.readline()\n",
    "    mjerenja = datoteka.readlines()\n",
    "\n",
    "izlaz = \"\" # prazni string jer nam za ispis u datoteku na kraju treba string, ovdje ćemo polagano dodavati nove volumene\n",
    "for red in mjerenja:\n",
    "    # svaki red ćemo prvo počistiti od nepotrebnih znakova sa .strip()\n",
    "    # strip je metoda zs stringove, miče prazne znakove (razmak, novi red i sl.) sa početka i kraja stringa\n",
    "    dimenzije = red.strip().split(\",\")\n",
    "    volumen = float(dimenzije[0])*float(dimenzije[1])*float(dimenzije[2])\n",
    "    izlaz = izlaz + f\"{volumen}\\n\"\n",
    "\n",
    "with open(\"volumeni.txt\",\"wt\") as datoteka:\n",
    "    datoteka.write(izlaz)\n",
    "    # kad se ovo izvrši neće se vidjeti rezultat na ekranu, već u datoteci volumeni.txt"
   ]
  }
 ],
 "metadata": {
  "interpreter": {
   "hash": "1baa965d5efe3ac65b79dfc60c0d706280b1da80fedb7760faf2759126c4f253"
  },
  "kernelspec": {
   "display_name": "Python 3.8.0 64-bit",
   "language": "python",
   "name": "python3"
  },
  "language_info": {
   "codemirror_mode": {
    "name": "ipython",
    "version": 3
   },
   "file_extension": ".py",
   "mimetype": "text/x-python",
   "name": "python",
   "nbconvert_exporter": "python",
   "pygments_lexer": "ipython3",
   "version": "3.8.2"
  },
  "orig_nbformat": 4
 },
 "nbformat": 4,
 "nbformat_minor": 2
}
