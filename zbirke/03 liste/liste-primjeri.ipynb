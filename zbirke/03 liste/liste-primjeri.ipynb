{
 "cells": [
  {
   "cell_type": "markdown",
   "metadata": {},
   "source": [
    "# Zadaci i primjeri s listama"
   ]
  },
  {
   "cell_type": "markdown",
   "metadata": {},
   "source": [
    "## 1. Zadatak\n",
    "\n",
    "Napiši program koji omogućava unos od *n* prirodnih brojeva koji se unose u jednom redu odvojenih zarezom.\n",
    "\n",
    "a) Program treba ispisati poredane po veličini silazno u obliku stupca.\n",
    "\n",
    "b) Ispisuje ih u obliku tablice gdje svaki red počinje rednim brojem, nakon čega slijedi tab i onda ide jedan od unesenih brojeva. Ispis ide redoslijedom kako su brojevi uneseni."
   ]
  },
  {
   "cell_type": "code",
   "execution_count": null,
   "metadata": {},
   "outputs": [],
   "source": [
    "# 1.A zadatak\n",
    "\n",
    "# ako korisnik upiše 2,5,3,9,1 brojevi sadrže ['2', '5', '3', '9', '1'] jer odmah radimo split()\n",
    "ulaz = input(\"Upiši listu brojeva odvojenih zarezom: \").split(',')\n",
    "\n",
    "# pretvorimo elemente liste u prave brojeve\n",
    "brojevi = [int(broj) for broj in ulaz]\n",
    "# sortiramo u obratnom redoslijedu kako bi brojevi išli silazno\n",
    "brojevi.sort(reverse=True)\n",
    "\n",
    "print(f\"Uneseni brojevi ispisani silazno:\")\n",
    "for broj in brojevi:\n",
    "    print(broj)"
   ]
  },
  {
   "cell_type": "code",
   "execution_count": null,
   "metadata": {},
   "outputs": [],
   "source": [
    "# 1.B zadatak - 1. varijanta: koristimo range()\n",
    "\n",
    "# ovaj put nećemo pretvarati u int jer ne trebamo sortirati\n",
    "brojevi = input(\"Upiši listu brojeva odvojenih zarezom: \").split(',')\n",
    "\n",
    "print(f\"Uneseni brojevi s redoslijedom:\")\n",
    "# i će nam služiti za izradu rednog broja i odabir elemenata u listi\n",
    "for i in range(len(brojevi)):\n",
    "    print(f\"{i+1}.\\t{brojevi[i]}\")\n"
   ]
  },
  {
   "cell_type": "code",
   "execution_count": null,
   "metadata": {},
   "outputs": [],
   "source": [
    "# 1.B zadatak - 2. varijanta: koristimo enumerate()\n",
    "\n",
    "# početni dio je isti\n",
    "brojevi = input(\"Upiši listu brojeva odvojenih zarezom: \").split(',')\n",
    "print(f\"Uneseni brojevi s redoslijedom:\")\n",
    "\n",
    "# enumerate() radi parove (broj,element) gdje je element dio neke zbirke\n",
    "# start je opcionalni argument, ako ga izostavimo enumerate() generira brojeve od nule\n",
    "for redniBroj,broj in enumerate(brojevi, start=1):\n",
    "    print(f\"{redniBroj}.\\t{broj}\")"
   ]
  },
  {
   "cell_type": "markdown",
   "metadata": {},
   "source": [
    "## 2. zadatak\n",
    "\n",
    "Napiši program koji od korisnika traži da upiše dvije riječi jednake duljine (program treba provjeriti jesu li jednake) i zatim ispisuje te riječi u stupce tako da su slova na istom mjestu u riječi zajedno u retku."
   ]
  },
  {
   "cell_type": "code",
   "execution_count": null,
   "metadata": {},
   "outputs": [],
   "source": [
    "# 2. zadatak - 1. varijanta: koristimo range()\n",
    "\n",
    "# na početku stringove namjestimo tako da nisu jednake duljine\n",
    "prva = \"\"\n",
    "druga = \" \"\n",
    "# pošto uvjet nije istinit ući će u petlju barem jednom i provjeravat će\n",
    "# sve dok korisnik ne unese jednako dugačke riječi\n",
    "while len(prva) != len(druga):\n",
    "    print(\"Upiši riječi jednake duljine.\")\n",
    "    prva = input(\"Upiši prvu riječ: \")\n",
    "    druga = input(\"Upiši drugu riječ: \")\n",
    "\n",
    "# jednako su dugačke pa je svejedno s kojom radimo indeks\n",
    "# pošto moramo uzimati slova na istom mjestu to znači da možemo uzeti\n",
    "# isti indeks u obje riječi što generiramo sa range()\n",
    "print(\"Riječi ispisane vertikalno: \")\n",
    "for i in range(len(prva)):\n",
    "    print(f\"{prva[i]} {druga[i]}\")"
   ]
  },
  {
   "cell_type": "code",
   "execution_count": null,
   "metadata": {},
   "outputs": [],
   "source": [
    "# 2. zadatak - 2. varijanta: koristimo zip()\n",
    "\n",
    "# unošenje riječi radi jednako\n",
    "prva = \"\"\n",
    "druga = \" \"\n",
    "while len(prva) != len(druga):\n",
    "    print(\"Upiši riječi jednake duljine.\")\n",
    "    prva = input(\"Upiši prvu riječ: \")\n",
    "    druga = input(\"Upiši drugu riječ: \")\n",
    "\n",
    "print(\"Riječi ispisane vertikalno: \")\n",
    "# zip() pakira više zbirki zajedno u iterator kako bi mogli prolaziti kroz sve istovremeno\n",
    "# kad se u for petlji prolazi kroz to dobija se ntorka koja ima toliko članova koliko smo zbirki stavili.\n",
    "# zbirke ne moraju biti iste duljine, ali će se zip() zaustaviti na zadnjem elementu najkraće\n",
    "for slovo1,slovo2 in zip(prva,druga):\n",
    "    print(f\"{slovo1} {slovo2}\")"
   ]
  },
  {
   "cell_type": "markdown",
   "metadata": {},
   "source": [
    "## 3. zadatak\n",
    "\n",
    "Kada nastavnici ispituju usmeno na satu često koriste slučajni odabir učenika. Napiši program koji će za neki popis učenika napraviti slučajni odabir:\n",
    "\n",
    "a) Nastavnik unosi željeni broj učenika koje želi ispitati i program bi trebao ispisati imena i prezimena zajedno s redoslijedom ispitivanja. Odabir treba moći napraviti više puta ako to želi.\n",
    "\n",
    "b) Dodatno na uvjet iz a) dijela zadatka nastavnik može odabrati želi li raditi slučajni odabiru prvoj ili drugoj polovici razreda.\n",
    "\n",
    "Za potrebe ovog zadatka uzmite da se popis učenika već nalazi u programu u obliku liste poredane po abecednom redu, a ne da se učenici svaki put unose preko tipkovnice."
   ]
  },
  {
   "cell_type": "code",
   "execution_count": null,
   "metadata": {},
   "outputs": [],
   "source": [
    "# popis učenika složen po abecedi\n",
    "učenici = ['Mirko A','Ana B','Željko C','Marko D','Tea E','Mirta F','Marta G','Ana H','Iva I','Borna J','Ivana K',\n",
    "'Petra L','Dea M','Ivan N','Marko O','Igor P','Đurđica R','Irena S']\n",
    "\n",
    "# sve stvari za slučajne brojeve i odabir se nalaze u random biblioteci\n",
    "# ovdje uvozimo samo funkcije koje služe za odabir iz liste\n",
    "from random import choice, choices, sample\n",
    "\n",
    "# choice() odabire jedan slučajni element iz liste\n",
    "print(f\"Odabir koji napravi choice(): {choice(učenici)}\")\n",
    "# choices() odabire k slučajnih odabira iz liste koji nisu nužno unikatni\n",
    "print(f\"Odabir koji napravi choice(): {choices(učenici,k=3)}\")\n",
    "# sample() odabire k slučajnih odabira koji jesu jedinstveni\n",
    "print(f\"Odabir koji napravi choice(): {sample(učenici,k=3)}\")\n",
    "\n"
   ]
  },
  {
   "cell_type": "code",
   "execution_count": null,
   "metadata": {},
   "outputs": [],
   "source": [
    "#1. A\n",
    "učenici = ['Mirko A','Ana B','Željko C','Marko D','Tea E','Mirta F','Marta G','Ana H','Iva I','Borna J','Ivana K',\n",
    "'Petra L','Dea M','Ivan N','Marko O','Igor P','Đurđica R','Irena S']\n",
    "\n",
    "while True:\n",
    "    print(\"Za kraj izvršavanja upiši slovo k\")\n",
    "    n = input(\"Upiši koliko učenika želiš odabrati slučajno: \")\n",
    "    if n == 'k':\n",
    "        print(\"Gotovo ispitivanje\")\n",
    "        break\n",
    "    # popis će biti lista učenika koji su slučajno odabrani\n",
    "    popis = []\n",
    "    for _ in range(int(n)):\n",
    "        # provjera jesmo li iskoristili sve učenike (choice javlja grešku ako radi odabir iz prazne zbirke)\n",
    "        if len(učenici) == 0:\n",
    "            break \n",
    "        # prvo pronalazimo indeks slučajno odabranog učenika\n",
    "        trenutni = učenici.index(choice(učenici))\n",
    "        # sa pop() premještamo učenike iz glavnog popisa u popis ispitivanja\n",
    "        popis.append(učenici.pop(trenutni))\n",
    "    print(\"Popis slučajno odabranih učenika:\\n\")\n",
    "    for redniBroj,učenik in enumerate(popis,start=1):\n",
    "        print(f\"{redniBroj}: {učenik}\")\n",
    "\n"
   ]
  },
  {
   "cell_type": "code",
   "execution_count": 12,
   "metadata": {},
   "outputs": [
    {
     "name": "stdout",
     "output_type": "stream",
     "text": [
      "Za kraj izvršavanja upiši slovo k\n",
      "Popis slučajno odabranih učenika:\n",
      "\n",
      "1: Ana H\n",
      "2: Mirko A\n",
      "3: Marko D\n",
      "4: Željko C\n",
      "5: Mirta F\n",
      "6: Marta G\n",
      "7: Iva I\n",
      "8: Ana B\n",
      "Za kraj izvršavanja upiši slovo k\n",
      "Popis slučajno odabranih učenika:\n",
      "\n",
      "1: Tea E\n",
      "Za kraj izvršavanja upiši slovo k\n",
      "Gotovo ispitivanje\n"
     ]
    }
   ],
   "source": [
    "#1. B\n",
    "# rješenje u A zadatku se svodi na traženje indeksa slučajno odabranih elemenata kako bi ih\n",
    "# maknuli iz glavnog popisa i stavili u listu za ispitivanje\n",
    "# pošto su indeksi brojevi onda možemo direktno generirati slučajne brojeve\n",
    "\n",
    "from random import randrange # randrange(star,stop) generira cijele brojeve u rasponu [start,stop>\n",
    "\n",
    "učenici = ['Mirko A','Ana B','Željko C','Marko D','Tea E','Mirta F','Marta G','Ana H','Iva I','Borna J','Ivana K',\n",
    "'Petra L','Dea M','Ivan N','Marko O','Igor P','Đurđica R','Irena S']\n",
    "\n",
    "# radimo listu od odabrane polovice razreda\n",
    "sredina = int(len(učenici)/2)\n",
    "pitanje = input(\"Odaberi za koju polovicu razreda se radi odabir upiši p ili d [prva/druga]:\")\n",
    "if pitanje == 'p':\n",
    "    polovica = učenici[:sredina]\n",
    "else:\n",
    "    polovica = učenici[sredina:]\n",
    "\n",
    "while True:\n",
    "    print(\"Za kraj izvršavanja upiši slovo k\")\n",
    "    n = input(\"Upiši koliko učenika želiš odabrati slučajno: \")\n",
    "    if n == 'k':\n",
    "        print(\"Gotovo ispitivanje\")\n",
    "        break\n",
    "    popis = []\n",
    "    for _ in range(int(n)):\n",
    "        if len(polovica) == 0: # ovaj put radimo samo na polovici\n",
    "            break\n",
    "        trenutni = randrange(0,len(polovica)) # generiramo slučajni broj između 0 i duljine polovice razreda\n",
    "        popis.append(polovica.pop(trenutni))\n",
    "    print(\"Popis slučajno odabranih učenika:\\n\")\n",
    "    for redniBroj,učenik in enumerate(popis,start=1):\n",
    "        print(f\"{redniBroj}: {učenik}\")"
   ]
  },
  {
   "cell_type": "markdown",
   "metadata": {},
   "source": [
    "## 4. zadatak\n",
    "\n",
    "Napiši program koji iz datoteke `visine.txt` čita popis imena učenika zajedno s njihovim visinama u centimetrima. Podaci su organizirani tako da u svakom redu datoteke prvo ide ime, pa onda zarezom odvojen broj (npr. Marko Perić,155). Program treba:\n",
    "\n",
    "a) U novu datoteku ispisati iste te podatke, ali sortirane po visini\n",
    "\n",
    "b) U novu datoteku ispisati iste te podatke, ali sortirane po prezimenu učenika\n",
    "\n",
    "Pretpostavite da sva imena i prezimena počinju sa slovima koja postoje u engleskoj abecedi."
   ]
  },
  {
   "cell_type": "code",
   "execution_count": null,
   "metadata": {},
   "outputs": [],
   "source": [
    "# učitavanje i organizacija podataka\n",
    "\n",
    "with open(\"visine.txt\", encoding=\"utf-8\") as ulaz:\n",
    "    podaci = ulaz.read() # tekst datoteke učitavamo kao jedan string\n",
    "\n",
    "listaredova = podaci.splitlines() # prvo polomimo po oznakama za novi red\n",
    "# kasnije će nam trebati ime odvojeno od prezimena jer b) zadatak traži sortiranje po prezimenu\n",
    "# također nam treba odvojena i visina za sortiranje u a) dijelu zadatka\n",
    "# sljedeća petlja će napraviti listu čiji članovi izgledaju kao:\n",
    "# [(str ime,str prezime),int visina]\n",
    "učenici = []\n",
    "for red in listaredova:\n",
    "    učenik = red.split(',') # razdvojimo po , da bi odvojili ime od visine\n",
    "    učenik[0] = tuple(učenik[0].split()) # element 0 je ime i prezime zajedno, pa ga odvajam po razmaku\n",
    "    učenik[1] = int(učenik[1]) # element 1 je visina pa ju pretvaramo u broj \n",
    "    učenici.append(učenik)\n",
    "\n",
    "učenici\n",
    "# ovo je tu da bi vidjeli kako izgleda cijela lista nakon što se napravi, ne jer zadatak to traži\n",
    "# struktura je komplicirana pa ću je detaljnije objasniti u ćeliji ispod\n",
    "# a onda zapravo kreće ostatak rješenja zadatka\n"
   ]
  },
  {
   "cell_type": "code",
   "execution_count": null,
   "metadata": {},
   "outputs": [],
   "source": [
    "# kako pristupamo pojedinim elementima ako su sami elementi druge zbirke?\n",
    "\n",
    "# lista učenici kao svoj element ima listu oblika [(str ime,str prezime),int visina]\n",
    "print(učenici[0]) # daje sve za prvog učenika\n",
    "\n",
    "# svaki učenik se sastoji od dva elementa: ntorke (ime,prezime) i visine\n",
    "# možemo dodavati dodatne [] za unutarnje elemente\n",
    "print(učenici[0][0]) # indeks elementa (ime,prezime)\n",
    "print(učenici[0][1]) # indeks elementa visina\n",
    "\n",
    "# dodatno (ime,prezime) je ntorka koja ima svoj indeks\n",
    "print(učenici[0][0][0]) # ime prvog učenika\n",
    "print(učenici[0][0][1]) # prezime prvog učenika\n",
    "\n",
    "# dakle ako odaberemo jednog učenika indeksi elemenata unutar njega izgledaju ovako:\n",
    "# [(str ime,str prezime),int visina]\n",
    "# [ 0->(0,1)            , 1]\n",
    "# [0->(0->ime,1->prezime),1->visina]"
   ]
  },
  {
   "cell_type": "code",
   "execution_count": null,
   "metadata": {},
   "outputs": [],
   "source": [
    "# za sortiranje po visini\n",
    "def poVisini(učenik):\n",
    "    return učenik[1] #kao što smo vidjeli iznad visina učenika je uvijek element na indeksu 1\n",
    "\n",
    "# za sortiranje po prezimenu\n",
    "def poPrezimenu(učenik):\n",
    "    return učenik[0][1] # prve [] su 0 jer uzimamo par (ime prezime) i onda su druge [1] da uzmemo prezime\n",
    "\n",
    "učenici.sort(key=poVisini) # prvo sortiramo po visini\n",
    "# moramo napraviti string za ispis u datoteku\n",
    "# ovdje samo pratimo strukturu za pojedinog učenika\n",
    "ispis = \"\\n\".join( f\"{ime} {prezime},{visina}\" for (ime,prezime),visina in učenici)\n",
    "# ovo je rezultat za A) dio zadatka\n",
    "with open(\"sortirano po visini.txt\", \"wt\", encoding=\"utf-8\") as izlaz:\n",
    "    izlaz.write(ispis)\n",
    "\n",
    "učenici.sort(key=poPrezimenu) # i za kraj sortiramo po prezimenu\n",
    "# ispis se slaže jednako za B) dio zadatka, samo sad pišemo u drugu datoteku\n",
    "ispis = \"\\n\".join( f\"{ime} {prezime},{visina}\" for (ime,prezime),visina in učenici)\n",
    "with open(\"sortirano po prezimenu.txt\", \"wt\", encoding=\"utf-8\") as izlaz:\n",
    "    izlaz.write(ispis)"
   ]
  }
 ],
 "metadata": {
  "interpreter": {
   "hash": "02776833e336d0844d1cb9243136a1912065e925e46192a6c392e90ffa596e2b"
  },
  "kernelspec": {
   "display_name": "Python 3.8.2 64-bit",
   "language": "python",
   "name": "python3"
  },
  "language_info": {
   "codemirror_mode": {
    "name": "ipython",
    "version": 3
   },
   "file_extension": ".py",
   "mimetype": "text/x-python",
   "name": "python",
   "nbconvert_exporter": "python",
   "pygments_lexer": "ipython3",
   "version": "3.8.2"
  },
  "orig_nbformat": 4
 },
 "nbformat": 4,
 "nbformat_minor": 2
}
