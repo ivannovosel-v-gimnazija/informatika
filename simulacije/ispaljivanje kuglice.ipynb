{
 "cells": [
  {
   "cell_type": "markdown",
   "metadata": {},
   "source": [
    "# Simuliranje gibanja\n",
    "\n",
    "Ovaj program pokazuje osnovne ideje numeričkih izračuna pomoću Pythona. Svaka ćelija u bilježnici je ili objašnjenje (poput ove ćelije) ili je Python kod koji se može izvršiti (Ctrl+Enter pokreće kod u ćeliji). Program se može modificirati po potrebi.\n",
    "\n",
    "Kada računamo stvari na papiru obično koristimo tzv. *analitički model*. Kombiniranjem formula dolazimo do jedne koja je u stanju dati konačan rezultat. Nakon toga se sva stanja mogu predviđati tom jednom formulom. Kada izrađujemo simulacije na računalu one u pozadini koriste tzv. *numerički model*. Numerički modeli obično koriste niz formula koje računaju puno međurezultata i time određuje sve male promjene koje se događaju. Numerički modeli nam zbog toga omogućavaju da jednostavnijom matematikom odredimo neke stvari koje bi bile dosta komplicirano računati analitički (u srednjoj školi smo osobito ograničeni onim što radite iz matematike)."
   ]
  },
  {
   "cell_type": "markdown",
   "metadata": {},
   "source": [
    "## Parametri modela\n",
    "\n",
    "Svaki numerički model računa što se događa sa simuliranim sustavom korak po korak. Isto kao kad smo ovo radili modeliranje u Trackeru potrebno je dodati **parametre** s kojima ćemo računati kasnije i **početne vrijednosti**. Također trebat ćemo postaviti neke varijable koje nam služe za spremanje rezultata samog izračuna.\n",
    "\n",
    "U ovom primjeru ćemo pokazati kako napraviti numerički model koji pokazuje kako se giba loptica ispaljena u vertikalnom smjeru iz kolica koja se gibaju jednolikom brzinom u horizontalnom smjeru. Model koji ćemo napraviti će se kasnije moći prilagoditi za bilo koje dvodimenzionalno gibanje.\n",
    "\n",
    "**NAPOMENA** - svaki put kad pokrećete simulaciju ispočetka izvršite ćeliju ispod kako bi se vrijednosti vratile nazad na početne"
   ]
  },
  {
   "cell_type": "code",
   "execution_count": null,
   "metadata": {},
   "outputs": [],
   "source": [
    "# parametri modela (vrijednosti ključnih fizikalnih veličina):\n",
    "m = 1 # masa [kg]\n",
    "g = 9.81 # ubrzanje sile teže [m/s^2]\n",
    "\n",
    "# vremenski korak (delta t) u [s]:\n",
    "dt = 0.01 \n",
    "\n",
    "# početne vrijednosti veličina koje računamo:\n",
    "t = 0\n",
    "x = 0\n",
    "y = 0\n",
    "vx = -3 # početna brzina kolica [m/s]\n",
    "vy = 10 # početna brzina izbacivanja [m/s]\n",
    "\n",
    "# liste u koje ćemo spremiti vrijednosti računa kako bi ih mogli prikazati na grafu kasnije\n",
    "# na početku se u listama nalaze samo početne vrijednosti\n",
    "vremena = [t]\n",
    "pomaci_x = [x]\n",
    "pomaci_y = [y]"
   ]
  },
  {
   "cell_type": "markdown",
   "metadata": {},
   "source": [
    "## Numerički model\n",
    "\n",
    "Ideja modela je da računamo pomake koje loptica radi kroz prostor. Kako je gibanje dvodimenzionalno svi računi ispod su napravljeni odvojeno za *x* i *y* os. Na kraju ćemo dobiti graf koji prikazuje kako se loptica gibala kroz prostor. Da bi mogli računati pomake trebamo redom znati:\n",
    "\n",
    "- **Silu** - sila na tijelo je osnovna stvar koja utječe na njezino gibanje\n",
    "\n",
    "- **Akceleracija** - jednom kad znamo kolika sila djeluje onda možemo odrediti akceleraciju tijela\n",
    "\n",
    "- **Brzina** - iz akceleracije određujemo kako se brzina mijenja\n",
    "\n",
    "- **Pomak** - i konačno ako znamo brzinu tijela u nekom trenu možemo odrediti gdje će se pomaknuti\n",
    "\n",
    "Pomaci se računaju za neki vremenski period ili dok se ne ispuni neki uvjet. Ova simulacija računa za neki iznos vremena `t` koji nam određuje ukupno vrijeme koje će se odviti u simulaciji. Svi izračuni se ponavljaju nakon kratkog vremenskog intervala `dt` - što je *dt* manji to je numerički izračun precizniji, ali će sama simulacija morati dulje računati."
   ]
  },
  {
   "cell_type": "code",
   "execution_count": null,
   "metadata": {},
   "outputs": [],
   "source": [
    "# matplotlib je python modul za crtanje grafova\n",
    "# ovo je nužno jer će rezultati simulacije biti prikazani kao graf\n",
    "from matplotlib.pyplot import *\n",
    "\n",
    "while t < 2:\n",
    "  # sile za oba smjera:\n",
    "  fx = 0    # u horizontalnom smjeru nema sile\n",
    "  fy = -m*g # u vertikalnom smjeru djeluje sila teža prema dolje\n",
    "  # akceleracije za oba smjera:\n",
    "  ax = fx/m\n",
    "  ay = fy/m\n",
    "  # brzina za oba smjera:\n",
    "  vx = vx + ax*dt\n",
    "  vy = vy + ay*dt\n",
    "  # pomak za oba smjera:\n",
    "  x = x + vx*dt\n",
    "  y = y + vy*dt\n",
    "  # na kraju pomaknemo vrijeme i spremimo trenutne rezultate u listu\n",
    "  t = t + dt\n",
    "  vremena.append(t)\n",
    "  pomaci_x.append(x)\n",
    "  pomaci_y.append(y)\n",
    "\n",
    "#crtanje grafa\n",
    "title('Putanja loptice ispaljene s kolica')\n",
    "xlabel('pomak na X osi [m]')\n",
    "ylabel('pomak ny Y osi [m]')\n",
    "plot(pomaci_x,pomaci_y,'r.')\n",
    "show()"
   ]
  }
 ],
 "metadata": {
  "interpreter": {
   "hash": "02776833e336d0844d1cb9243136a1912065e925e46192a6c392e90ffa596e2b"
  },
  "kernelspec": {
   "display_name": "Python 3.8.2 64-bit",
   "language": "python",
   "name": "python3"
  },
  "language_info": {
   "codemirror_mode": {
    "name": "ipython",
    "version": 3
   },
   "file_extension": ".py",
   "mimetype": "text/x-python",
   "name": "python",
   "nbconvert_exporter": "python",
   "pygments_lexer": "ipython3",
   "version": "3.8.2"
  },
  "orig_nbformat": 4
 },
 "nbformat": 4,
 "nbformat_minor": 2
}
